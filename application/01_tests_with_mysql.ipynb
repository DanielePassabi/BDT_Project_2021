{
 "metadata": {
  "language_info": {
   "codemirror_mode": {
    "name": "ipython",
    "version": 3
   },
   "file_extension": ".py",
   "mimetype": "text/x-python",
   "name": "python",
   "nbconvert_exporter": "python",
   "pygments_lexer": "ipython3",
   "version": "3.9.2"
  },
  "orig_nbformat": 2,
  "kernelspec": {
   "name": "python392jvsc74a57bd09b4d0864ee092708f16b2542940b1fbc0b0becef5f5c7f918ecc5aefd1393b23",
   "display_name": "Python 3.9.2 64-bit ('BDT_2021': conda)"
  }
 },
 "nbformat": 4,
 "nbformat_minor": 2,
 "cells": [
  {
   "source": [
    "# MySQL tests"
   ],
   "cell_type": "markdown",
   "metadata": {}
  },
  {
   "source": [
    "### Libraries"
   ],
   "cell_type": "markdown",
   "metadata": {}
  },
  {
   "cell_type": "code",
   "execution_count": 26,
   "metadata": {},
   "outputs": [
    {
     "output_type": "stream",
     "name": "stdout",
     "text": [
      "Libraries Imported\n"
     ]
    }
   ],
   "source": [
    "import pandas as pd\n",
    "import mysql.connector\n",
    "from tqdm import tqdm\n",
    "\n",
    "from functions import *\n",
    "\n",
    "print(\"Libraries Imported\")"
   ]
  },
  {
   "source": [
    "### Get the csv"
   ],
   "cell_type": "markdown",
   "metadata": {}
  },
  {
   "cell_type": "code",
   "execution_count": 27,
   "metadata": {},
   "outputs": [
    {
     "output_type": "stream",
     "name": "stdout",
     "text": [
      "          cig                                     aggiudicatario  \\\n0  74117387AE                                    ITALFARMACO SPA   \n1  04751401EE                                      ABBOTT S.R.L.   \n2  6819935466  STUDIO PROFESSIONALE I.P.A.C. DI PANFILI P. & ...   \n3  5806422B01           S.I.R. SISTEMI ITALIANI RISTORAZIONE SRL   \n4  5140928BFB                CONSORZIO LOGISTICA PACCHI S.C.P.A.   \n\n                                 tipo_aggiudicatario  \n0  IMPRESA SINGOLA (IMPRENDITORI INDIVIDUALI, ANC...  \n1  IMPRESA SINGOLA (IMPRENDITORI INDIVIDUALI, ANC...  \n2  IMPRESA SINGOLA (IMPRENDITORI INDIVIDUALI, ANC...  \n3  IMPRESA SINGOLA (IMPRENDITORI INDIVIDUALI, ANC...  \n4  IMPRESA SINGOLA (IMPRENDITORI INDIVIDUALI, ANC...  \n\nTotal rows: 53216\n"
     ]
    }
   ],
   "source": [
    "new_agg_df = pd.read_csv(\"../application/datasets/clean_data/aggiudicatari_new_50k.csv\", sep=\";\")\n",
    "\n",
    "print(new_agg_df.head())\n",
    "print(\"\\nTotal rows:\", new_agg_df.shape[0])"
   ]
  },
  {
   "source": [
    "### Connect to the db"
   ],
   "cell_type": "markdown",
   "metadata": {}
  },
  {
   "cell_type": "code",
   "execution_count": 28,
   "metadata": {},
   "outputs": [],
   "source": [
    "host = \"127.0.0.1\"\n",
    "port = 3306\n",
    "database = \"db_bdt_project\"\n",
    "user = \"root\"\n",
    "password = \"dany1998\"\n",
    "\n",
    "db_connection = connectToMySQL_Alchemy(host, port, database, user, password, False)"
   ]
  },
  {
   "cell_type": "code",
   "execution_count": 29,
   "metadata": {},
   "outputs": [
    {
     "output_type": "stream",
     "name": "stdout",
     "text": [
      "          cig                                     aggiudicatario  \\\n0  74117387AE                                    ITALFARMACO SPA   \n1  04751401EE                                      ABBOTT S.R.L.   \n2  6819935466  STUDIO PROFESSIONALE I.P.A.C. DI PANFILI P. & ...   \n3  5806422B01           S.I.R. SISTEMI ITALIANI RISTORAZIONE SRL   \n4  5140928BFB                CONSORZIO LOGISTICA PACCHI S.C.P.A.   \n\n                                 tipo_aggiudicatario  \n0  IMPRESA SINGOLA (IMPRENDITORI INDIVIDUALI, ANC...  \n1  IMPRESA SINGOLA (IMPRENDITORI INDIVIDUALI, ANC...  \n2  IMPRESA SINGOLA (IMPRENDITORI INDIVIDUALI, ANC...  \n3  IMPRESA SINGOLA (IMPRENDITORI INDIVIDUALI, ANC...  \n4  IMPRESA SINGOLA (IMPRENDITORI INDIVIDUALI, ANC...  \n\nTotal rows: 50000\n"
     ]
    }
   ],
   "source": [
    "table = \"elenco_aggiudicatari_test\"\n",
    "old_agg_df = retrieveAllDataFromTable_Alchemy(table, db_connection)\n",
    "\n",
    "print(old_agg_df.head())\n",
    "print(\"\\nTotal rows:\", old_agg_df.shape[0])"
   ]
  },
  {
   "source": [
    "### Find the difference between the two (= new data)"
   ],
   "cell_type": "markdown",
   "metadata": {}
  },
  {
   "cell_type": "code",
   "execution_count": 30,
   "metadata": {},
   "outputs": [
    {
     "output_type": "stream",
     "name": "stdout",
     "text": [
      "              cig         aggiudicatario  \\\n50000  8286476850  ING. ALESSANDRO COCCO   \n50001  6960885006      ESSEGIEMME S.R.L.   \n50002  0132709AEB              BIFFI SPA   \n50003  3690754A8A     C.C.R. MEDICAL SRL   \n50004  74963431F1          C.O.P. S.R.L.   \n\n                                     tipo_aggiudicatario  \n50000  ATI (RAGGRUPPAMENTI TEMPORANEI DI CONCORRENTI:...  \n50001  IMPRESA SINGOLA (IMPRENDITORI INDIVIDUALI, ANC...  \n50002  IMPRESA SINGOLA (IMPRENDITORI INDIVIDUALI, ANC...  \n50003  IMPRESA SINGOLA (IMPRENDITORI INDIVIDUALI, ANC...  \n50004  IMPRESA SINGOLA (IMPRENDITORI INDIVIDUALI, ANC...  \n\nTotal rows: 3216\n"
     ]
    }
   ],
   "source": [
    "new_entries = pd.concat([old_agg_df,new_agg_df]).drop_duplicates(keep=False)\n",
    "\n",
    "print(new_entries.head())\n",
    "print(\"\\nTotal rows:\", new_entries.shape[0])"
   ]
  },
  {
   "source": [
    "## Insert the difference in the db"
   ],
   "cell_type": "markdown",
   "metadata": {}
  },
  {
   "cell_type": "code",
   "execution_count": null,
   "metadata": {},
   "outputs": [],
   "source": []
  }
 ]
}