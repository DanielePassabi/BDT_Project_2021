{
 "metadata": {
  "language_info": {
   "codemirror_mode": {
    "name": "ipython",
    "version": 3
   },
   "file_extension": ".py",
   "mimetype": "text/x-python",
   "name": "python",
   "nbconvert_exporter": "python",
   "pygments_lexer": "ipython3",
   "version": "3.9.2"
  },
  "orig_nbformat": 2,
  "kernelspec": {
   "name": "python392jvsc74a57bd09b4d0864ee092708f16b2542940b1fbc0b0becef5f5c7f918ecc5aefd1393b23",
   "display_name": "Python 3.9.2 64-bit ('BDT_2021': conda)"
  }
 },
 "nbformat": 4,
 "nbformat_minor": 2,
 "cells": [
  {
   "source": [
    "# Obtaining the data"
   ],
   "cell_type": "markdown",
   "metadata": {}
  },
  {
   "source": [
    "### Libraries"
   ],
   "cell_type": "markdown",
   "metadata": {}
  },
  {
   "cell_type": "code",
   "execution_count": 50,
   "metadata": {},
   "outputs": [
    {
     "output_type": "stream",
     "name": "stdout",
     "text": [
      "Libraries Imported\n"
     ]
    }
   ],
   "source": [
    "import pandas as pd\n",
    "from sklearn import neighbors\n",
    "import numpy as np\n",
    "\n",
    "print(\"Libraries Imported\")"
   ]
  },
  {
   "source": [
    "### Exploration of the data"
   ],
   "cell_type": "markdown",
   "metadata": {}
  },
  {
   "cell_type": "code",
   "execution_count": 51,
   "metadata": {},
   "outputs": [
    {
     "output_type": "stream",
     "name": "stdout",
     "text": [
      "Number of rows in data = 118149\nNumber of columns in data = 14\n\nSample data:\n"
     ]
    },
    {
     "output_type": "execute_result",
     "data": {
      "text/plain": [
       "          cig  numero_gara  importo_complessivo_gara  n_lotti_componenti  \\\n",
       "0  8103641819      7599631                 876344.28                   4   \n",
       "1  809634968D      7593971                 140136.00                   1   \n",
       "2  809634968D      7593971                 140136.00                   1   \n",
       "3  81621757E2      7649364                 380000.00                   1   \n",
       "4  8142536944      7633063                 712031.30                   1   \n",
       "\n",
       "   importo_lotto           settore data_pubblicazione  \\\n",
       "0       220888.0  SETTORI ORDINARI         2020-01-27   \n",
       "1       140136.0  SETTORI SPECIALI         2020-01-03   \n",
       "2       140136.0  SETTORI SPECIALI         2020-01-03   \n",
       "3       380000.0  SETTORI ORDINARI         2020-01-02   \n",
       "4       712031.3  SETTORI ORDINARI         2020-01-13   \n",
       "\n",
       "                              tipo_scelta_contraente  \\\n",
       "0                                   PROCEDURA APERTA   \n",
       "1  AFFIDAMENTO DIRETTO IN ADESIONE AD ACCORDO QUA...   \n",
       "2  AFFIDAMENTO DIRETTO IN ADESIONE AD ACCORDO QUA...   \n",
       "3  AFFIDAMENTO DIRETTO IN ADESIONE AD ACCORDO QUA...   \n",
       "4     PROCEDURA NEGOZIATA SENZA PREVIA PUBBLICAZIONE   \n",
       "\n",
       "                              modalita_realizzazione  \\\n",
       "0                                CONTRATTO D'APPALTO   \n",
       "1  CONTRATTO D'APPALTO DISCENDENTE DA ACCORDO QUA...   \n",
       "2  CONTRATTO D'APPALTO DISCENDENTE DA ACCORDO QUA...   \n",
       "3  CONTRATTO DAPPALTO DISCENDENTE DA ACCORDO QUAD...   \n",
       "4                                 CONTRATTO DAPPALTO   \n",
       "\n",
       "          denominazione_amministrazione_appaltante  \\\n",
       "0                  CITTA  METROPOLITANA DI CATANIA   \n",
       "1  RETE FERROVIARIA ITALIANA - SOCIETA  PER AZIONI   \n",
       "2  RETE FERROVIARIA ITALIANA - SOCIETA  PER AZIONI   \n",
       "3             AMMINISTRAZIONE PROVINCIALE DI TERNI   \n",
       "4                    AZIENDA ULSS N. 3 SERENISSIMA   \n",
       "\n",
       "            sezione_regionale  \\\n",
       "0   SEZIONE REGIONALE SICILIA   \n",
       "1  SEZIONE REGIONALE CENTRALE   \n",
       "2  SEZIONE REGIONALE CENTRALE   \n",
       "3    SEZIONE REGIONALE UMBRIA   \n",
       "4    SEZIONE REGIONALE VENETO   \n",
       "\n",
       "                                     descrizione_cpv  \\\n",
       "0            SERVIZI DI ISPEZIONE TECNICA DI EDIFICI   \n",
       "1  INSTALLAZIONE DI DISPOSITIVI DI TELECOMUNICAZIONE   \n",
       "2  INSTALLAZIONE DI DISPOSITIVI DI TELECOMUNICAZIONE   \n",
       "3                                       ELETTRICITÃ€   \n",
       "4  SERVIZI DI MANUTENZIONE DI SISTEMI E DI ASSIST...   \n",
       "\n",
       "                          aggiudicatore  \\\n",
       "0                          A.T.I. SLURP   \n",
       "1  GENERALE COSTRUZIONI FERROVIARIE SPA   \n",
       "2                        VALTELLINA SPA   \n",
       "3                       A2A ENERGIA SPA   \n",
       "4                               DEDALUS   \n",
       "\n",
       "                                  tipo_aggiudicatore  \n",
       "0  IMPRESA SINGOLA (IMPRENDITORI INDIVIDUALI, ANC...  \n",
       "1  ATI (RAGGRUPPAMENTI TEMPORANEI DI CONCORRENTI:...  \n",
       "2  ATI (RAGGRUPPAMENTI TEMPORANEI DI CONCORRENTI:...  \n",
       "3  IMPRESA SINGOLA (IMPRENDITORI INDIVIDUALI, ANC...  \n",
       "4  IMPRESA SINGOLA (IMPRENDITORI INDIVIDUALI, ANC...  "
      ],
      "text/html": "<div>\n<style scoped>\n    .dataframe tbody tr th:only-of-type {\n        vertical-align: middle;\n    }\n\n    .dataframe tbody tr th {\n        vertical-align: top;\n    }\n\n    .dataframe thead th {\n        text-align: right;\n    }\n</style>\n<table border=\"1\" class=\"dataframe\">\n  <thead>\n    <tr style=\"text-align: right;\">\n      <th></th>\n      <th>cig</th>\n      <th>numero_gara</th>\n      <th>importo_complessivo_gara</th>\n      <th>n_lotti_componenti</th>\n      <th>importo_lotto</th>\n      <th>settore</th>\n      <th>data_pubblicazione</th>\n      <th>tipo_scelta_contraente</th>\n      <th>modalita_realizzazione</th>\n      <th>denominazione_amministrazione_appaltante</th>\n      <th>sezione_regionale</th>\n      <th>descrizione_cpv</th>\n      <th>aggiudicatore</th>\n      <th>tipo_aggiudicatore</th>\n    </tr>\n  </thead>\n  <tbody>\n    <tr>\n      <th>0</th>\n      <td>8103641819</td>\n      <td>7599631</td>\n      <td>876344.28</td>\n      <td>4</td>\n      <td>220888.0</td>\n      <td>SETTORI ORDINARI</td>\n      <td>2020-01-27</td>\n      <td>PROCEDURA APERTA</td>\n      <td>CONTRATTO D'APPALTO</td>\n      <td>CITTA  METROPOLITANA DI CATANIA</td>\n      <td>SEZIONE REGIONALE SICILIA</td>\n      <td>SERVIZI DI ISPEZIONE TECNICA DI EDIFICI</td>\n      <td>A.T.I. SLURP</td>\n      <td>IMPRESA SINGOLA (IMPRENDITORI INDIVIDUALI, ANC...</td>\n    </tr>\n    <tr>\n      <th>1</th>\n      <td>809634968D</td>\n      <td>7593971</td>\n      <td>140136.00</td>\n      <td>1</td>\n      <td>140136.0</td>\n      <td>SETTORI SPECIALI</td>\n      <td>2020-01-03</td>\n      <td>AFFIDAMENTO DIRETTO IN ADESIONE AD ACCORDO QUA...</td>\n      <td>CONTRATTO D'APPALTO DISCENDENTE DA ACCORDO QUA...</td>\n      <td>RETE FERROVIARIA ITALIANA - SOCIETA  PER AZIONI</td>\n      <td>SEZIONE REGIONALE CENTRALE</td>\n      <td>INSTALLAZIONE DI DISPOSITIVI DI TELECOMUNICAZIONE</td>\n      <td>GENERALE COSTRUZIONI FERROVIARIE SPA</td>\n      <td>ATI (RAGGRUPPAMENTI TEMPORANEI DI CONCORRENTI:...</td>\n    </tr>\n    <tr>\n      <th>2</th>\n      <td>809634968D</td>\n      <td>7593971</td>\n      <td>140136.00</td>\n      <td>1</td>\n      <td>140136.0</td>\n      <td>SETTORI SPECIALI</td>\n      <td>2020-01-03</td>\n      <td>AFFIDAMENTO DIRETTO IN ADESIONE AD ACCORDO QUA...</td>\n      <td>CONTRATTO D'APPALTO DISCENDENTE DA ACCORDO QUA...</td>\n      <td>RETE FERROVIARIA ITALIANA - SOCIETA  PER AZIONI</td>\n      <td>SEZIONE REGIONALE CENTRALE</td>\n      <td>INSTALLAZIONE DI DISPOSITIVI DI TELECOMUNICAZIONE</td>\n      <td>VALTELLINA SPA</td>\n      <td>ATI (RAGGRUPPAMENTI TEMPORANEI DI CONCORRENTI:...</td>\n    </tr>\n    <tr>\n      <th>3</th>\n      <td>81621757E2</td>\n      <td>7649364</td>\n      <td>380000.00</td>\n      <td>1</td>\n      <td>380000.0</td>\n      <td>SETTORI ORDINARI</td>\n      <td>2020-01-02</td>\n      <td>AFFIDAMENTO DIRETTO IN ADESIONE AD ACCORDO QUA...</td>\n      <td>CONTRATTO DAPPALTO DISCENDENTE DA ACCORDO QUAD...</td>\n      <td>AMMINISTRAZIONE PROVINCIALE DI TERNI</td>\n      <td>SEZIONE REGIONALE UMBRIA</td>\n      <td>ELETTRICITÃ€</td>\n      <td>A2A ENERGIA SPA</td>\n      <td>IMPRESA SINGOLA (IMPRENDITORI INDIVIDUALI, ANC...</td>\n    </tr>\n    <tr>\n      <th>4</th>\n      <td>8142536944</td>\n      <td>7633063</td>\n      <td>712031.30</td>\n      <td>1</td>\n      <td>712031.3</td>\n      <td>SETTORI ORDINARI</td>\n      <td>2020-01-13</td>\n      <td>PROCEDURA NEGOZIATA SENZA PREVIA PUBBLICAZIONE</td>\n      <td>CONTRATTO DAPPALTO</td>\n      <td>AZIENDA ULSS N. 3 SERENISSIMA</td>\n      <td>SEZIONE REGIONALE VENETO</td>\n      <td>SERVIZI DI MANUTENZIONE DI SISTEMI E DI ASSIST...</td>\n      <td>DEDALUS</td>\n      <td>IMPRESA SINGOLA (IMPRENDITORI INDIVIDUALI, ANC...</td>\n    </tr>\n  </tbody>\n</table>\n</div>"
     },
     "metadata": {},
     "execution_count": 51
    }
   ],
   "source": [
    "df = pd.read_csv(\"../datasets/clean_datasets/cig_csv_2020_clean2.csv\", sep=\";\")\n",
    "\n",
    "print(\"Number of rows in data =\", df.shape[0])\n",
    "print(\"Number of columns in data =\", df.shape[1])\n",
    "\n",
    "print(\"\\nSample data:\")\n",
    "df.head()"
   ]
  },
  {
   "source": [
    "Remove the NAs"
   ],
   "cell_type": "markdown",
   "metadata": {}
  },
  {
   "cell_type": "code",
   "execution_count": 52,
   "metadata": {},
   "outputs": [],
   "source": [
    "#df = df.dropna()\n",
    "#\n",
    "#print(\"Number of rows in data =\", df.shape[0])\n",
    "#print(\"Number of columns in data =\", df.shape[1])\n",
    "#\n",
    "#print(\"\\nSample data:\")\n",
    "#df.head()"
   ]
  },
  {
   "cell_type": "code",
   "execution_count": 53,
   "metadata": {},
   "outputs": [
    {
     "output_type": "execute_result",
     "data": {
      "text/plain": [
       "41685"
      ]
     },
     "metadata": {},
     "execution_count": 53
    }
   ],
   "source": [
    "# Ottenere i valori univoci degli aggiudicatori\n",
    "list_aggiudicatore = list(set(df.aggiudicatore))\n",
    "len(list_aggiudicatore)"
   ]
  },
  {
   "source": [
    "## TEST ON FAKE DATA"
   ],
   "cell_type": "markdown",
   "metadata": {}
  },
  {
   "cell_type": "code",
   "execution_count": 54,
   "metadata": {},
   "outputs": [
    {
     "output_type": "execute_result",
     "data": {
      "text/plain": [
       "KNeighborsClassifier(n_neighbors=1)"
      ]
     },
     "metadata": {},
     "execution_count": 54
    }
   ],
   "source": [
    "lotti_data = [[1000, 4, 500], [10000, 1, 10000], [100000, 3, 200]]  # array\n",
    "lotti_target = [1,2,3]                                              # array\n",
    "lotti_target_names = [\"A.T.I. SLURP\", \"GENERALE COSTRUZIONI FERROVIARIE SPA\", \"A2A ENERGIA SPA\"]\n",
    "\n",
    "X, y = lotti_data, lotti_target\n",
    "\n",
    "knn = neighbors.KNeighborsClassifier(n_neighbors=1)\n",
    "knn.fit(X, y)"
   ]
  },
  {
   "cell_type": "code",
   "execution_count": 55,
   "metadata": {},
   "outputs": [
    {
     "output_type": "execute_result",
     "data": {
      "text/plain": [
       "array([3])"
      ]
     },
     "metadata": {},
     "execution_count": 55
    }
   ],
   "source": [
    "knn.predict([[200000, 4, 500]])"
   ]
  },
  {
   "source": [
    "## TEST ON REAL DATA"
   ],
   "cell_type": "markdown",
   "metadata": {}
  },
  {
   "source": [
    "Otteniamo i dati sui lotti"
   ],
   "cell_type": "markdown",
   "metadata": {}
  },
  {
   "cell_type": "code",
   "execution_count": 56,
   "metadata": {
    "tags": []
   },
   "outputs": [
    {
     "output_type": "execute_result",
     "data": {
      "text/plain": [
       "[[140136.0, 1, 140136.0],\n",
       " [140136.0, 1, 140136.0],\n",
       " [380000.0, 1, 380000.0],\n",
       " [712031.3, 1, 712031.3],\n",
       " [145425.94, 1, 145425.94],\n",
       " [1285590332.19, 2364, 463156.36],\n",
       " [360000.0, 1, 360000.0],\n",
       " [6840384.8, 1, 6840384.8],\n",
       " [6840384.8, 1, 6840384.8]]"
      ]
     },
     "metadata": {},
     "execution_count": 56
    }
   ],
   "source": [
    "lotti_data = []\n",
    "\n",
    "for i in range(len(df)):\n",
    "    lotti_data.append([df[\"importo_complessivo_gara\"][i], df[\"n_lotti_componenti\"][i], df[\"importo_lotto\"][i]])\n",
    "\n",
    "lotti_data[1:10]"
   ]
  },
  {
   "source": [
    "Otteniamo i dati sugli aggiudicatori (target del modello)"
   ],
   "cell_type": "markdown",
   "metadata": {}
  },
  {
   "cell_type": "code",
   "execution_count": 57,
   "metadata": {},
   "outputs": [
    {
     "output_type": "execute_result",
     "data": {
      "text/plain": [
       "1    GENERALE COSTRUZIONI FERROVIARIE SPA\n",
       "2                          VALTELLINA SPA\n",
       "3                         A2A ENERGIA SPA\n",
       "4                                 DEDALUS\n",
       "5                            SODAI S.P.A.\n",
       "6                              A.P.M. SRL\n",
       "7                     SHIRE ITALIA S.P.A.\n",
       "8               LA MUSA COOPERATIVA ONLUS\n",
       "9                             INSIEME SRL\n",
       "Name: aggiudicatore, dtype: object"
      ]
     },
     "metadata": {},
     "execution_count": 57
    }
   ],
   "source": [
    "lotti_target = df[\"aggiudicatore\"]\n",
    "lotti_target[1:10]"
   ]
  },
  {
   "source": [
    "Addestriamo il modello"
   ],
   "cell_type": "markdown",
   "metadata": {}
  },
  {
   "cell_type": "code",
   "execution_count": 58,
   "metadata": {},
   "outputs": [
    {
     "output_type": "execute_result",
     "data": {
      "text/plain": [
       "KNeighborsClassifier(n_neighbors=100)"
      ]
     },
     "metadata": {},
     "execution_count": 58
    }
   ],
   "source": [
    "X, y = lotti_data, lotti_target\n",
    "\n",
    "knn = neighbors.KNeighborsClassifier(n_neighbors=100)\n",
    "knn.fit(X, y)"
   ]
  },
  {
   "cell_type": "code",
   "execution_count": 59,
   "metadata": {},
   "outputs": [
    {
     "output_type": "execute_result",
     "data": {
      "text/plain": [
       "array(['ELTI SRL'], dtype=object)"
      ]
     },
     "metadata": {},
     "execution_count": 59
    }
   ],
   "source": [
    "knn.predict([[380000.00, 4, 220888.0]])"
   ]
  }
 ]
}