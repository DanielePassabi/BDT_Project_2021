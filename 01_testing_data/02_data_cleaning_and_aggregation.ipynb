{
 "metadata": {
  "language_info": {
   "codemirror_mode": {
    "name": "ipython",
    "version": 3
   },
   "file_extension": ".py",
   "mimetype": "text/x-python",
   "name": "python",
   "nbconvert_exporter": "python",
   "pygments_lexer": "ipython3",
   "version": "3.9.2"
  },
  "orig_nbformat": 2,
  "kernelspec": {
   "name": "python392jvsc74a57bd09b4d0864ee092708f16b2542940b1fbc0b0becef5f5c7f918ecc5aefd1393b23",
   "display_name": "Python 3.9.2 64-bit ('BDT_2021': conda)"
  }
 },
 "nbformat": 4,
 "nbformat_minor": 2,
 "cells": [
  {
   "source": [
    "# Data cleaning and aggregation"
   ],
   "cell_type": "markdown",
   "metadata": {}
  },
  {
   "source": [
    "### Libraries"
   ],
   "cell_type": "markdown",
   "metadata": {}
  },
  {
   "cell_type": "code",
   "execution_count": 144,
   "metadata": {},
   "outputs": [
    {
     "output_type": "stream",
     "name": "stdout",
     "text": [
      "Libraries Imported\n"
     ]
    }
   ],
   "source": [
    "import pandas as pd\n",
    "from os import listdir\n",
    "from os.path import isfile, join\n",
    "from tqdm import tqdm\n",
    "\n",
    "print(\"Libraries Imported\")"
   ]
  },
  {
   "source": [
    "## CIG"
   ],
   "cell_type": "markdown",
   "metadata": {}
  },
  {
   "cell_type": "code",
   "execution_count": 145,
   "metadata": {},
   "outputs": [],
   "source": [
    "def importCIG(cig_path):\n",
    "    df = pd.read_csv(cig_path, sep=\";\", low_memory=False)\n",
    "    return df"
   ]
  },
  {
   "cell_type": "code",
   "execution_count": 146,
   "metadata": {},
   "outputs": [],
   "source": [
    "test_path = \"../application/datasets/cig/cig_csv_2020_01.csv\"\n",
    "gen_2020_df = importCIG(test_path)"
   ]
  },
  {
   "cell_type": "code",
   "execution_count": 147,
   "metadata": {},
   "outputs": [],
   "source": [
    "def cleanCIG(cig_df):\n",
    "\n",
    "    # Operation 1 - Select only meaningful columns\n",
    "    meaningful_cols = [\"cig\", \"numero_gara\",\"importo_complessivo_gara\", \"n_lotti_componenti\", \"importo_lotto\", \"settore\", \"data_pubblicazione\", \"tipo_scelta_contraente\", \"modalita_realizzazione\", \"denominazione_amministrazione_appaltante\", \"sezione_regionale\", \"descrizione_cpv\"]\n",
    "\n",
    "    cig_df = cig_df[meaningful_cols]\n",
    "\n",
    "    # Operation 2 - Remove all rows with at least 1 NAs\n",
    "    cig_df = cig_df.dropna()\n",
    "\n",
    "    # Restituisco dataset pulito\n",
    "    return cig_df"
   ]
  },
  {
   "cell_type": "code",
   "execution_count": 148,
   "metadata": {},
   "outputs": [],
   "source": [
    "gen_2020_df_clean = cleanCIG(gen_2020_df)"
   ]
  },
  {
   "cell_type": "code",
   "execution_count": 149,
   "metadata": {},
   "outputs": [],
   "source": [
    "def mergeCIG(cigs_path):\n",
    "\n",
    "    # get the list of file names to import\n",
    "    file_names = [f for f in listdir(cigs_path) if isfile(join(cigs_path, f))]\n",
    "\n",
    "    # create placeholder dataset\n",
    "    final_df = pd.DataFrame()\n",
    "\n",
    "    # iterate over every CIG dataset\n",
    "    for file_name in tqdm(file_names):\n",
    "\n",
    "        # get the path\n",
    "        temp_cig_path = cigs_path + file_name\n",
    "        \n",
    "        # import the CIG df\n",
    "        temp_cig_df = importCIG(temp_cig_path)\n",
    "\n",
    "        # clean the CIG df\n",
    "        temp_cleaned_cig_df = cleanCIG(temp_cig_df)\n",
    "\n",
    "        # add it to the final df\n",
    "        frames = [final_df, temp_cleaned_cig_df]\n",
    "        final_df = pd.concat(frames)\n",
    "\n",
    "    # return the complete and cleaned dataset\n",
    "    return final_df"
   ]
  },
  {
   "cell_type": "code",
   "execution_count": 150,
   "metadata": {},
   "outputs": [
    {
     "output_type": "stream",
     "name": "stderr",
     "text": [
      "100%|██████████| 36/36 [00:14<00:00,  2.56it/s]\n"
     ]
    }
   ],
   "source": [
    "cigs_path = \"../application/datasets/cig/\"\n",
    "all_cigs_df = mergeCIG(cigs_path)"
   ]
  },
  {
   "cell_type": "code",
   "execution_count": 151,
   "metadata": {},
   "outputs": [
    {
     "output_type": "execute_result",
     "data": {
      "text/plain": [
       "              cig  numero_gara  importo_complessivo_gara  n_lotti_componenti  \\\n",
       "0      7409526648      7018127                1139994.00                 9.0   \n",
       "1      7339269C5D      6954408                 192327.87                 1.0   \n",
       "2      7542219403      7129021                 440833.44                 4.0   \n",
       "3      73460876C3      6959626                 821709.03                 1.0   \n",
       "4      735538715F      6967363                 138186.00                 1.0   \n",
       "...           ...          ...                       ...                 ...   \n",
       "32207  8605315296      8026194                2400000.00                 1.0   \n",
       "32208  8527188A23      7954894                3286020.00                42.0   \n",
       "32209  86017092D2      8022794                3328261.52                30.0   \n",
       "32210  8597747D43      8019421                  59640.00                 1.0   \n",
       "32211  856549239B      7992105                1225414.12                44.0   \n",
       "\n",
       "       importo_lotto           settore data_pubblicazione  \\\n",
       "0          126666.00  SETTORI SPECIALI         2018-01-31   \n",
       "1          192327.87  SETTORI ORDINARI         2018-01-04   \n",
       "2           63279.00  SETTORI ORDINARI         2018-01-24   \n",
       "3          821709.03  SETTORI ORDINARI         2018-01-17   \n",
       "4          138186.00  SETTORI ORDINARI         2018-01-24   \n",
       "...              ...               ...                ...   \n",
       "32207     2400000.00  SETTORI ORDINARI         2020-12-24   \n",
       "32208       15800.00  SETTORI ORDINARI         2020-12-02   \n",
       "32209      100761.54  SETTORI ORDINARI         2020-12-29   \n",
       "32210       59640.00  SETTORI ORDINARI         2020-12-18   \n",
       "32211       81000.00  SETTORI ORDINARI         2020-12-04   \n",
       "\n",
       "                                  tipo_scelta_contraente  \\\n",
       "0      AFFIDAMENTO DIRETTO IN ADESIONE AD ACCORDO QUA...   \n",
       "1         PROCEDURA NEGOZIATA SENZA PREVIA PUBBLICAZIONE   \n",
       "2      PROCEDURA NEGOZIATA SENZA PREVIA INDIZIONE DI ...   \n",
       "3         PROCEDURA NEGOZIATA SENZA PREVIA PUBBLICAZIONE   \n",
       "4                                       PROCEDURA APERTA   \n",
       "...                                                  ...   \n",
       "32207                                AFFIDAMENTO DIRETTO   \n",
       "32208                                   PROCEDURA APERTA   \n",
       "32209     PROCEDURA NEGOZIATA SENZA PREVIA PUBBLICAZIONE   \n",
       "32210   PROCEDURA NEGOZIATA PER AFFIDAMENTI SOTTO SOGLIA   \n",
       "32211                                   PROCEDURA APERTA   \n",
       "\n",
       "                                  modalita_realizzazione  \\\n",
       "0      CONTRATTO DAPPALTO DISCENDENTE DA ACCORDO QUAD...   \n",
       "1                             ACCORDO QUADRO/CONVENZIONE   \n",
       "2                                     CONTRATTO DAPPALTO   \n",
       "3                                    CONTRATTO D'APPALTO   \n",
       "4                                     CONTRATTO DAPPALTO   \n",
       "...                                                  ...   \n",
       "32207                                CONTRATTO D'APPALTO   \n",
       "32208                                     ACCORDO QUADRO   \n",
       "32209                                CONTRATTO D'APPALTO   \n",
       "32210                                CONTRATTO D'APPALTO   \n",
       "32211                                CONTRATTO D'APPALTO   \n",
       "\n",
       "                denominazione_amministrazione_appaltante  \\\n",
       "0                                               HERA SPA   \n",
       "1      ESTAR (ENTE DI SUPPORTO TECNICO AMMINISTRATIVO...   \n",
       "2            AZIENDA UNITA  SANITARIA LOCALE N.1 SASSARI   \n",
       "3                                    COMUNE DI FIUMICINO   \n",
       "4      CENTRALE UNICA DI COMMITTENZA FRA I COMUNI DI ...   \n",
       "...                                                  ...   \n",
       "32207                                  COMUNE DI ALBENGA   \n",
       "32208  AZIENDA SANITARIA LOCALE 1 DI AVEZZANO-SULMONA...   \n",
       "32209  AZIENDA REGIONALE PER L EMERGENZA SANITARIA AR...   \n",
       "32210                        AZIENDA SANITARIA LOCALE BT   \n",
       "32211                                         ASL ROMA 2   \n",
       "\n",
       "                      sezione_regionale  \\\n",
       "0            SEZIONE REGIONALE CENTRALE   \n",
       "1             SEZIONE REGIONALE TOSCANA   \n",
       "2            SEZIONE REGIONALE SARDEGNA   \n",
       "3               SEZIONE REGIONALE LAZIO   \n",
       "4      SEZIONE REGIONALE EMILIA ROMAGNA   \n",
       "...                                 ...   \n",
       "32207         SEZIONE REGIONALE LIGURIA   \n",
       "32208         SEZIONE REGIONALE ABRUZZO   \n",
       "32209           SEZIONE REGIONALE LAZIO   \n",
       "32210          SEZIONE REGIONALE PUGLIA   \n",
       "32211           SEZIONE REGIONALE LAZIO   \n",
       "\n",
       "                                         descrizione_cpv  \n",
       "0                      SERVIZI DI ASSISTENZA INFORMATICA  \n",
       "1                        SERVIZI DI VIGILANZA DI EDIFICI  \n",
       "2                                     PRODOTTI DIETETICI  \n",
       "3      LAVORI DI COSTRUZIONE, DI FONDAZIONE E DI SUPE...  \n",
       "4               SERVIZI DI GESTIONE DI IMPIANTI SPORTIVI  \n",
       "...                                                  ...  \n",
       "32207       SERVIZI DI RACCOLTA DI RIFIUTI SOLIDI URBANI  \n",
       "32208                                   AGHI PER BIOPSIA  \n",
       "32209                               SERVIZI DI AMBULANZA  \n",
       "32210                                    MEDICINALI VARI  \n",
       "32211                 DISPOSITIVI E PRODOTTI MEDICI VARI  \n",
       "\n",
       "[1099342 rows x 12 columns]"
      ],
      "text/html": "<div>\n<style scoped>\n    .dataframe tbody tr th:only-of-type {\n        vertical-align: middle;\n    }\n\n    .dataframe tbody tr th {\n        vertical-align: top;\n    }\n\n    .dataframe thead th {\n        text-align: right;\n    }\n</style>\n<table border=\"1\" class=\"dataframe\">\n  <thead>\n    <tr style=\"text-align: right;\">\n      <th></th>\n      <th>cig</th>\n      <th>numero_gara</th>\n      <th>importo_complessivo_gara</th>\n      <th>n_lotti_componenti</th>\n      <th>importo_lotto</th>\n      <th>settore</th>\n      <th>data_pubblicazione</th>\n      <th>tipo_scelta_contraente</th>\n      <th>modalita_realizzazione</th>\n      <th>denominazione_amministrazione_appaltante</th>\n      <th>sezione_regionale</th>\n      <th>descrizione_cpv</th>\n    </tr>\n  </thead>\n  <tbody>\n    <tr>\n      <th>0</th>\n      <td>7409526648</td>\n      <td>7018127</td>\n      <td>1139994.00</td>\n      <td>9.0</td>\n      <td>126666.00</td>\n      <td>SETTORI SPECIALI</td>\n      <td>2018-01-31</td>\n      <td>AFFIDAMENTO DIRETTO IN ADESIONE AD ACCORDO QUA...</td>\n      <td>CONTRATTO DAPPALTO DISCENDENTE DA ACCORDO QUAD...</td>\n      <td>HERA SPA</td>\n      <td>SEZIONE REGIONALE CENTRALE</td>\n      <td>SERVIZI DI ASSISTENZA INFORMATICA</td>\n    </tr>\n    <tr>\n      <th>1</th>\n      <td>7339269C5D</td>\n      <td>6954408</td>\n      <td>192327.87</td>\n      <td>1.0</td>\n      <td>192327.87</td>\n      <td>SETTORI ORDINARI</td>\n      <td>2018-01-04</td>\n      <td>PROCEDURA NEGOZIATA SENZA PREVIA PUBBLICAZIONE</td>\n      <td>ACCORDO QUADRO/CONVENZIONE</td>\n      <td>ESTAR (ENTE DI SUPPORTO TECNICO AMMINISTRATIVO...</td>\n      <td>SEZIONE REGIONALE TOSCANA</td>\n      <td>SERVIZI DI VIGILANZA DI EDIFICI</td>\n    </tr>\n    <tr>\n      <th>2</th>\n      <td>7542219403</td>\n      <td>7129021</td>\n      <td>440833.44</td>\n      <td>4.0</td>\n      <td>63279.00</td>\n      <td>SETTORI ORDINARI</td>\n      <td>2018-01-24</td>\n      <td>PROCEDURA NEGOZIATA SENZA PREVIA INDIZIONE DI ...</td>\n      <td>CONTRATTO DAPPALTO</td>\n      <td>AZIENDA UNITA  SANITARIA LOCALE N.1 SASSARI</td>\n      <td>SEZIONE REGIONALE SARDEGNA</td>\n      <td>PRODOTTI DIETETICI</td>\n    </tr>\n    <tr>\n      <th>3</th>\n      <td>73460876C3</td>\n      <td>6959626</td>\n      <td>821709.03</td>\n      <td>1.0</td>\n      <td>821709.03</td>\n      <td>SETTORI ORDINARI</td>\n      <td>2018-01-17</td>\n      <td>PROCEDURA NEGOZIATA SENZA PREVIA PUBBLICAZIONE</td>\n      <td>CONTRATTO D'APPALTO</td>\n      <td>COMUNE DI FIUMICINO</td>\n      <td>SEZIONE REGIONALE LAZIO</td>\n      <td>LAVORI DI COSTRUZIONE, DI FONDAZIONE E DI SUPE...</td>\n    </tr>\n    <tr>\n      <th>4</th>\n      <td>735538715F</td>\n      <td>6967363</td>\n      <td>138186.00</td>\n      <td>1.0</td>\n      <td>138186.00</td>\n      <td>SETTORI ORDINARI</td>\n      <td>2018-01-24</td>\n      <td>PROCEDURA APERTA</td>\n      <td>CONTRATTO DAPPALTO</td>\n      <td>CENTRALE UNICA DI COMMITTENZA FRA I COMUNI DI ...</td>\n      <td>SEZIONE REGIONALE EMILIA ROMAGNA</td>\n      <td>SERVIZI DI GESTIONE DI IMPIANTI SPORTIVI</td>\n    </tr>\n    <tr>\n      <th>...</th>\n      <td>...</td>\n      <td>...</td>\n      <td>...</td>\n      <td>...</td>\n      <td>...</td>\n      <td>...</td>\n      <td>...</td>\n      <td>...</td>\n      <td>...</td>\n      <td>...</td>\n      <td>...</td>\n      <td>...</td>\n    </tr>\n    <tr>\n      <th>32207</th>\n      <td>8605315296</td>\n      <td>8026194</td>\n      <td>2400000.00</td>\n      <td>1.0</td>\n      <td>2400000.00</td>\n      <td>SETTORI ORDINARI</td>\n      <td>2020-12-24</td>\n      <td>AFFIDAMENTO DIRETTO</td>\n      <td>CONTRATTO D'APPALTO</td>\n      <td>COMUNE DI ALBENGA</td>\n      <td>SEZIONE REGIONALE LIGURIA</td>\n      <td>SERVIZI DI RACCOLTA DI RIFIUTI SOLIDI URBANI</td>\n    </tr>\n    <tr>\n      <th>32208</th>\n      <td>8527188A23</td>\n      <td>7954894</td>\n      <td>3286020.00</td>\n      <td>42.0</td>\n      <td>15800.00</td>\n      <td>SETTORI ORDINARI</td>\n      <td>2020-12-02</td>\n      <td>PROCEDURA APERTA</td>\n      <td>ACCORDO QUADRO</td>\n      <td>AZIENDA SANITARIA LOCALE 1 DI AVEZZANO-SULMONA...</td>\n      <td>SEZIONE REGIONALE ABRUZZO</td>\n      <td>AGHI PER BIOPSIA</td>\n    </tr>\n    <tr>\n      <th>32209</th>\n      <td>86017092D2</td>\n      <td>8022794</td>\n      <td>3328261.52</td>\n      <td>30.0</td>\n      <td>100761.54</td>\n      <td>SETTORI ORDINARI</td>\n      <td>2020-12-29</td>\n      <td>PROCEDURA NEGOZIATA SENZA PREVIA PUBBLICAZIONE</td>\n      <td>CONTRATTO D'APPALTO</td>\n      <td>AZIENDA REGIONALE PER L EMERGENZA SANITARIA AR...</td>\n      <td>SEZIONE REGIONALE LAZIO</td>\n      <td>SERVIZI DI AMBULANZA</td>\n    </tr>\n    <tr>\n      <th>32210</th>\n      <td>8597747D43</td>\n      <td>8019421</td>\n      <td>59640.00</td>\n      <td>1.0</td>\n      <td>59640.00</td>\n      <td>SETTORI ORDINARI</td>\n      <td>2020-12-18</td>\n      <td>PROCEDURA NEGOZIATA PER AFFIDAMENTI SOTTO SOGLIA</td>\n      <td>CONTRATTO D'APPALTO</td>\n      <td>AZIENDA SANITARIA LOCALE BT</td>\n      <td>SEZIONE REGIONALE PUGLIA</td>\n      <td>MEDICINALI VARI</td>\n    </tr>\n    <tr>\n      <th>32211</th>\n      <td>856549239B</td>\n      <td>7992105</td>\n      <td>1225414.12</td>\n      <td>44.0</td>\n      <td>81000.00</td>\n      <td>SETTORI ORDINARI</td>\n      <td>2020-12-04</td>\n      <td>PROCEDURA APERTA</td>\n      <td>CONTRATTO D'APPALTO</td>\n      <td>ASL ROMA 2</td>\n      <td>SEZIONE REGIONALE LAZIO</td>\n      <td>DISPOSITIVI E PRODOTTI MEDICI VARI</td>\n    </tr>\n  </tbody>\n</table>\n<p>1099342 rows × 12 columns</p>\n</div>"
     },
     "metadata": {},
     "execution_count": 151
    }
   ],
   "source": [
    "all_cigs_df"
   ]
  },
  {
   "source": [
    "## Aggiudicatari"
   ],
   "cell_type": "markdown",
   "metadata": {}
  },
  {
   "cell_type": "code",
   "execution_count": 152,
   "metadata": {},
   "outputs": [],
   "source": [
    "def importAggiudicatari(agg_path):\n",
    "    df = pd.read_csv(agg_path, sep=\";\", low_memory=False)\n",
    "    return df"
   ]
  },
  {
   "cell_type": "code",
   "execution_count": 153,
   "metadata": {},
   "outputs": [],
   "source": [
    "test_path = \"../application/datasets/aggiudicatari/aggiudicatari_csv_0.csv\"\n",
    "aggiudicatari_df = importAggiudicatari(test_path)"
   ]
  },
  {
   "cell_type": "code",
   "execution_count": 154,
   "metadata": {},
   "outputs": [
    {
     "output_type": "execute_result",
     "data": {
      "text/plain": [
       "                cig ruolo codice_fiscale  \\\n",
       "0        74117387AE   NaN    00737420158   \n",
       "1        04751401EE   NaN    00076670595   \n",
       "2        6819935466   NaN    06903050018   \n",
       "3        5806422B01   NaN    00748940160   \n",
       "4        5140928BFB   NaN    06112461006   \n",
       "...             ...   ...            ...   \n",
       "1736261  5504060DFC   NaN    12844250154   \n",
       "1736262  51493745D9   NaN    00350200226   \n",
       "1736263  56186955CA   NaN    00212840235   \n",
       "1736264  83412866F5   NaN    09331210154   \n",
       "1736265  72859002E2   NaN    07817950152   \n",
       "\n",
       "                                             denominazione  \\\n",
       "0                                          ITALFARMACO SPA   \n",
       "1                                            ABBOTT S.R.L.   \n",
       "2        STUDIO PROFESSIONALE I.P.A.C. DI PANFILI P. & ...   \n",
       "3                 S.I.R. SISTEMI ITALIANI RISTORAZIONE SRL   \n",
       "4                      CONSORZIO LOGISTICA PACCHI S.C.P.A.   \n",
       "...                                                    ...   \n",
       "1736261                                SRA INSTRUMENTS SPA   \n",
       "1736262         GEOROCCE S.N.C. DI TOMASONI ANGELO & F.LLI   \n",
       "1736263                                    GLAXOSMITHKLINE   \n",
       "1736264                              SMITH & NEPHEW S.R.L.   \n",
       "1736265                       THERMO FISHER SCIENTIFIC SPA   \n",
       "\n",
       "                                             tipo_soggetto  id_aggiudicazione  \n",
       "0        IMPRESA SINGOLA (IMPRENDITORI INDIVIDUALI, ANC...            1335652  \n",
       "1        IMPRESA SINGOLA (IMPRENDITORI INDIVIDUALI, ANC...             155129  \n",
       "2        IMPRESA SINGOLA (IMPRENDITORI INDIVIDUALI, ANC...            1224653  \n",
       "3        IMPRESA SINGOLA (IMPRENDITORI INDIVIDUALI, ANC...             616872  \n",
       "4        IMPRESA SINGOLA (IMPRENDITORI INDIVIDUALI, ANC...             471378  \n",
       "...                                                    ...                ...  \n",
       "1736261  IMPRESA SINGOLA (IMPRENDITORI INDIVIDUALI, ANC...             678843  \n",
       "1736262  IMPRESA SINGOLA (IMPRENDITORI INDIVIDUALI, ANC...             608917  \n",
       "1736263  IMPRESA SINGOLA (IMPRENDITORI INDIVIDUALI, ANC...            1034944  \n",
       "1736264  IMPRESA SINGOLA (IMPRENDITORI INDIVIDUALI, ANC...            1892177  \n",
       "1736265  IMPRESA SINGOLA (IMPRENDITORI INDIVIDUALI, ANC...            1710738  \n",
       "\n",
       "[1736266 rows x 6 columns]"
      ],
      "text/html": "<div>\n<style scoped>\n    .dataframe tbody tr th:only-of-type {\n        vertical-align: middle;\n    }\n\n    .dataframe tbody tr th {\n        vertical-align: top;\n    }\n\n    .dataframe thead th {\n        text-align: right;\n    }\n</style>\n<table border=\"1\" class=\"dataframe\">\n  <thead>\n    <tr style=\"text-align: right;\">\n      <th></th>\n      <th>cig</th>\n      <th>ruolo</th>\n      <th>codice_fiscale</th>\n      <th>denominazione</th>\n      <th>tipo_soggetto</th>\n      <th>id_aggiudicazione</th>\n    </tr>\n  </thead>\n  <tbody>\n    <tr>\n      <th>0</th>\n      <td>74117387AE</td>\n      <td>NaN</td>\n      <td>00737420158</td>\n      <td>ITALFARMACO SPA</td>\n      <td>IMPRESA SINGOLA (IMPRENDITORI INDIVIDUALI, ANC...</td>\n      <td>1335652</td>\n    </tr>\n    <tr>\n      <th>1</th>\n      <td>04751401EE</td>\n      <td>NaN</td>\n      <td>00076670595</td>\n      <td>ABBOTT S.R.L.</td>\n      <td>IMPRESA SINGOLA (IMPRENDITORI INDIVIDUALI, ANC...</td>\n      <td>155129</td>\n    </tr>\n    <tr>\n      <th>2</th>\n      <td>6819935466</td>\n      <td>NaN</td>\n      <td>06903050018</td>\n      <td>STUDIO PROFESSIONALE I.P.A.C. DI PANFILI P. &amp; ...</td>\n      <td>IMPRESA SINGOLA (IMPRENDITORI INDIVIDUALI, ANC...</td>\n      <td>1224653</td>\n    </tr>\n    <tr>\n      <th>3</th>\n      <td>5806422B01</td>\n      <td>NaN</td>\n      <td>00748940160</td>\n      <td>S.I.R. SISTEMI ITALIANI RISTORAZIONE SRL</td>\n      <td>IMPRESA SINGOLA (IMPRENDITORI INDIVIDUALI, ANC...</td>\n      <td>616872</td>\n    </tr>\n    <tr>\n      <th>4</th>\n      <td>5140928BFB</td>\n      <td>NaN</td>\n      <td>06112461006</td>\n      <td>CONSORZIO LOGISTICA PACCHI S.C.P.A.</td>\n      <td>IMPRESA SINGOLA (IMPRENDITORI INDIVIDUALI, ANC...</td>\n      <td>471378</td>\n    </tr>\n    <tr>\n      <th>...</th>\n      <td>...</td>\n      <td>...</td>\n      <td>...</td>\n      <td>...</td>\n      <td>...</td>\n      <td>...</td>\n    </tr>\n    <tr>\n      <th>1736261</th>\n      <td>5504060DFC</td>\n      <td>NaN</td>\n      <td>12844250154</td>\n      <td>SRA INSTRUMENTS SPA</td>\n      <td>IMPRESA SINGOLA (IMPRENDITORI INDIVIDUALI, ANC...</td>\n      <td>678843</td>\n    </tr>\n    <tr>\n      <th>1736262</th>\n      <td>51493745D9</td>\n      <td>NaN</td>\n      <td>00350200226</td>\n      <td>GEOROCCE S.N.C. DI TOMASONI ANGELO &amp; F.LLI</td>\n      <td>IMPRESA SINGOLA (IMPRENDITORI INDIVIDUALI, ANC...</td>\n      <td>608917</td>\n    </tr>\n    <tr>\n      <th>1736263</th>\n      <td>56186955CA</td>\n      <td>NaN</td>\n      <td>00212840235</td>\n      <td>GLAXOSMITHKLINE</td>\n      <td>IMPRESA SINGOLA (IMPRENDITORI INDIVIDUALI, ANC...</td>\n      <td>1034944</td>\n    </tr>\n    <tr>\n      <th>1736264</th>\n      <td>83412866F5</td>\n      <td>NaN</td>\n      <td>09331210154</td>\n      <td>SMITH &amp; NEPHEW S.R.L.</td>\n      <td>IMPRESA SINGOLA (IMPRENDITORI INDIVIDUALI, ANC...</td>\n      <td>1892177</td>\n    </tr>\n    <tr>\n      <th>1736265</th>\n      <td>72859002E2</td>\n      <td>NaN</td>\n      <td>07817950152</td>\n      <td>THERMO FISHER SCIENTIFIC SPA</td>\n      <td>IMPRESA SINGOLA (IMPRENDITORI INDIVIDUALI, ANC...</td>\n      <td>1710738</td>\n    </tr>\n  </tbody>\n</table>\n<p>1736266 rows × 6 columns</p>\n</div>"
     },
     "metadata": {},
     "execution_count": 154
    }
   ],
   "source": [
    "aggiudicatari_df"
   ]
  },
  {
   "cell_type": "code",
   "execution_count": 155,
   "metadata": {},
   "outputs": [],
   "source": [
    "def cleanAggiudicatari(agg_df):\n",
    "    # Operation 1 - Select only meaningful columns\n",
    "    meaningful_cols = [\"cig\", \"denominazione\", \"tipo_soggetto\"]\n",
    "    agg_df = agg_df[meaningful_cols]\n",
    "\n",
    "    # Operation 2 - Renaming of columns (for clarity)\n",
    "    agg_df = agg_df.rename(columns={\"denominazione\": \"aggiudicatario\", \"tipo_soggetto\": \"tipo_aggiudicatario\"})\n",
    "\n",
    "    # Operation 3 - Remove all rows with at least 1 NAs\n",
    "    agg_df = agg_df.dropna()\n",
    "\n",
    "    # Return clean df\n",
    "    return agg_df"
   ]
  },
  {
   "cell_type": "code",
   "execution_count": 156,
   "metadata": {},
   "outputs": [
    {
     "output_type": "execute_result",
     "data": {
      "text/plain": [
       "                cig                                     aggiudicatario  \\\n",
       "0        74117387AE                                    ITALFARMACO SPA   \n",
       "1        04751401EE                                      ABBOTT S.R.L.   \n",
       "2        6819935466  STUDIO PROFESSIONALE I.P.A.C. DI PANFILI P. & ...   \n",
       "3        5806422B01           S.I.R. SISTEMI ITALIANI RISTORAZIONE SRL   \n",
       "4        5140928BFB                CONSORZIO LOGISTICA PACCHI S.C.P.A.   \n",
       "...             ...                                                ...   \n",
       "1736261  5504060DFC                                SRA INSTRUMENTS SPA   \n",
       "1736262  51493745D9         GEOROCCE S.N.C. DI TOMASONI ANGELO & F.LLI   \n",
       "1736263  56186955CA                                    GLAXOSMITHKLINE   \n",
       "1736264  83412866F5                              SMITH & NEPHEW S.R.L.   \n",
       "1736265  72859002E2                       THERMO FISHER SCIENTIFIC SPA   \n",
       "\n",
       "                                       tipo_aggiudicatario  \n",
       "0        IMPRESA SINGOLA (IMPRENDITORI INDIVIDUALI, ANC...  \n",
       "1        IMPRESA SINGOLA (IMPRENDITORI INDIVIDUALI, ANC...  \n",
       "2        IMPRESA SINGOLA (IMPRENDITORI INDIVIDUALI, ANC...  \n",
       "3        IMPRESA SINGOLA (IMPRENDITORI INDIVIDUALI, ANC...  \n",
       "4        IMPRESA SINGOLA (IMPRENDITORI INDIVIDUALI, ANC...  \n",
       "...                                                    ...  \n",
       "1736261  IMPRESA SINGOLA (IMPRENDITORI INDIVIDUALI, ANC...  \n",
       "1736262  IMPRESA SINGOLA (IMPRENDITORI INDIVIDUALI, ANC...  \n",
       "1736263  IMPRESA SINGOLA (IMPRENDITORI INDIVIDUALI, ANC...  \n",
       "1736264  IMPRESA SINGOLA (IMPRENDITORI INDIVIDUALI, ANC...  \n",
       "1736265  IMPRESA SINGOLA (IMPRENDITORI INDIVIDUALI, ANC...  \n",
       "\n",
       "[1736167 rows x 3 columns]"
      ],
      "text/html": "<div>\n<style scoped>\n    .dataframe tbody tr th:only-of-type {\n        vertical-align: middle;\n    }\n\n    .dataframe tbody tr th {\n        vertical-align: top;\n    }\n\n    .dataframe thead th {\n        text-align: right;\n    }\n</style>\n<table border=\"1\" class=\"dataframe\">\n  <thead>\n    <tr style=\"text-align: right;\">\n      <th></th>\n      <th>cig</th>\n      <th>aggiudicatario</th>\n      <th>tipo_aggiudicatario</th>\n    </tr>\n  </thead>\n  <tbody>\n    <tr>\n      <th>0</th>\n      <td>74117387AE</td>\n      <td>ITALFARMACO SPA</td>\n      <td>IMPRESA SINGOLA (IMPRENDITORI INDIVIDUALI, ANC...</td>\n    </tr>\n    <tr>\n      <th>1</th>\n      <td>04751401EE</td>\n      <td>ABBOTT S.R.L.</td>\n      <td>IMPRESA SINGOLA (IMPRENDITORI INDIVIDUALI, ANC...</td>\n    </tr>\n    <tr>\n      <th>2</th>\n      <td>6819935466</td>\n      <td>STUDIO PROFESSIONALE I.P.A.C. DI PANFILI P. &amp; ...</td>\n      <td>IMPRESA SINGOLA (IMPRENDITORI INDIVIDUALI, ANC...</td>\n    </tr>\n    <tr>\n      <th>3</th>\n      <td>5806422B01</td>\n      <td>S.I.R. SISTEMI ITALIANI RISTORAZIONE SRL</td>\n      <td>IMPRESA SINGOLA (IMPRENDITORI INDIVIDUALI, ANC...</td>\n    </tr>\n    <tr>\n      <th>4</th>\n      <td>5140928BFB</td>\n      <td>CONSORZIO LOGISTICA PACCHI S.C.P.A.</td>\n      <td>IMPRESA SINGOLA (IMPRENDITORI INDIVIDUALI, ANC...</td>\n    </tr>\n    <tr>\n      <th>...</th>\n      <td>...</td>\n      <td>...</td>\n      <td>...</td>\n    </tr>\n    <tr>\n      <th>1736261</th>\n      <td>5504060DFC</td>\n      <td>SRA INSTRUMENTS SPA</td>\n      <td>IMPRESA SINGOLA (IMPRENDITORI INDIVIDUALI, ANC...</td>\n    </tr>\n    <tr>\n      <th>1736262</th>\n      <td>51493745D9</td>\n      <td>GEOROCCE S.N.C. DI TOMASONI ANGELO &amp; F.LLI</td>\n      <td>IMPRESA SINGOLA (IMPRENDITORI INDIVIDUALI, ANC...</td>\n    </tr>\n    <tr>\n      <th>1736263</th>\n      <td>56186955CA</td>\n      <td>GLAXOSMITHKLINE</td>\n      <td>IMPRESA SINGOLA (IMPRENDITORI INDIVIDUALI, ANC...</td>\n    </tr>\n    <tr>\n      <th>1736264</th>\n      <td>83412866F5</td>\n      <td>SMITH &amp; NEPHEW S.R.L.</td>\n      <td>IMPRESA SINGOLA (IMPRENDITORI INDIVIDUALI, ANC...</td>\n    </tr>\n    <tr>\n      <th>1736265</th>\n      <td>72859002E2</td>\n      <td>THERMO FISHER SCIENTIFIC SPA</td>\n      <td>IMPRESA SINGOLA (IMPRENDITORI INDIVIDUALI, ANC...</td>\n    </tr>\n  </tbody>\n</table>\n<p>1736167 rows × 3 columns</p>\n</div>"
     },
     "metadata": {},
     "execution_count": 156
    }
   ],
   "source": [
    "aggiudicatari_clean_df = cleanAggiudicatari(aggiudicatari_df)\n",
    "aggiudicatari_clean_df"
   ]
  },
  {
   "cell_type": "code",
   "execution_count": 157,
   "metadata": {},
   "outputs": [],
   "source": [
    "def mergeAggiudicatari(aggiudicatari_path):\n",
    "\n",
    "    # get the list of file names to import\n",
    "    file_names = [f for f in listdir(aggiudicatari_path) if isfile(join(aggiudicatari_path, f))]\n",
    "\n",
    "    # create placeholder dataset\n",
    "    final_df = pd.DataFrame()\n",
    "\n",
    "    # iterate over every Aggiudicatari dataset\n",
    "    for file_name in tqdm(file_names):\n",
    "\n",
    "        # get the path\n",
    "        temp_agg_path = aggiudicatari_path + file_name\n",
    "        \n",
    "        # import the Aggiudicatari df\n",
    "        temp_agg_df = importAggiudicatari(temp_agg_path)\n",
    "\n",
    "        # clean the Aggiudicatari df\n",
    "        temp_cleaned_agg_df = cleanAggiudicatari(temp_agg_df)\n",
    "\n",
    "        # add it to the final df\n",
    "        frames = [final_df, temp_cleaned_agg_df]\n",
    "        final_df = pd.concat(frames)\n",
    "\n",
    "    # return the complete and cleaned dataset\n",
    "    return final_df"
   ]
  },
  {
   "cell_type": "code",
   "execution_count": 158,
   "metadata": {},
   "outputs": [
    {
     "output_type": "stream",
     "name": "stderr",
     "text": [
      "100%|██████████| 1/1 [00:03<00:00,  3.63s/it]\n"
     ]
    },
    {
     "output_type": "execute_result",
     "data": {
      "text/plain": [
       "                cig                                     aggiudicatario  \\\n",
       "0        74117387AE                                    ITALFARMACO SPA   \n",
       "1        04751401EE                                      ABBOTT S.R.L.   \n",
       "2        6819935466  STUDIO PROFESSIONALE I.P.A.C. DI PANFILI P. & ...   \n",
       "3        5806422B01           S.I.R. SISTEMI ITALIANI RISTORAZIONE SRL   \n",
       "4        5140928BFB                CONSORZIO LOGISTICA PACCHI S.C.P.A.   \n",
       "...             ...                                                ...   \n",
       "1736261  5504060DFC                                SRA INSTRUMENTS SPA   \n",
       "1736262  51493745D9         GEOROCCE S.N.C. DI TOMASONI ANGELO & F.LLI   \n",
       "1736263  56186955CA                                    GLAXOSMITHKLINE   \n",
       "1736264  83412866F5                              SMITH & NEPHEW S.R.L.   \n",
       "1736265  72859002E2                       THERMO FISHER SCIENTIFIC SPA   \n",
       "\n",
       "                                       tipo_aggiudicatario  \n",
       "0        IMPRESA SINGOLA (IMPRENDITORI INDIVIDUALI, ANC...  \n",
       "1        IMPRESA SINGOLA (IMPRENDITORI INDIVIDUALI, ANC...  \n",
       "2        IMPRESA SINGOLA (IMPRENDITORI INDIVIDUALI, ANC...  \n",
       "3        IMPRESA SINGOLA (IMPRENDITORI INDIVIDUALI, ANC...  \n",
       "4        IMPRESA SINGOLA (IMPRENDITORI INDIVIDUALI, ANC...  \n",
       "...                                                    ...  \n",
       "1736261  IMPRESA SINGOLA (IMPRENDITORI INDIVIDUALI, ANC...  \n",
       "1736262  IMPRESA SINGOLA (IMPRENDITORI INDIVIDUALI, ANC...  \n",
       "1736263  IMPRESA SINGOLA (IMPRENDITORI INDIVIDUALI, ANC...  \n",
       "1736264  IMPRESA SINGOLA (IMPRENDITORI INDIVIDUALI, ANC...  \n",
       "1736265  IMPRESA SINGOLA (IMPRENDITORI INDIVIDUALI, ANC...  \n",
       "\n",
       "[1736167 rows x 3 columns]"
      ],
      "text/html": "<div>\n<style scoped>\n    .dataframe tbody tr th:only-of-type {\n        vertical-align: middle;\n    }\n\n    .dataframe tbody tr th {\n        vertical-align: top;\n    }\n\n    .dataframe thead th {\n        text-align: right;\n    }\n</style>\n<table border=\"1\" class=\"dataframe\">\n  <thead>\n    <tr style=\"text-align: right;\">\n      <th></th>\n      <th>cig</th>\n      <th>aggiudicatario</th>\n      <th>tipo_aggiudicatario</th>\n    </tr>\n  </thead>\n  <tbody>\n    <tr>\n      <th>0</th>\n      <td>74117387AE</td>\n      <td>ITALFARMACO SPA</td>\n      <td>IMPRESA SINGOLA (IMPRENDITORI INDIVIDUALI, ANC...</td>\n    </tr>\n    <tr>\n      <th>1</th>\n      <td>04751401EE</td>\n      <td>ABBOTT S.R.L.</td>\n      <td>IMPRESA SINGOLA (IMPRENDITORI INDIVIDUALI, ANC...</td>\n    </tr>\n    <tr>\n      <th>2</th>\n      <td>6819935466</td>\n      <td>STUDIO PROFESSIONALE I.P.A.C. DI PANFILI P. &amp; ...</td>\n      <td>IMPRESA SINGOLA (IMPRENDITORI INDIVIDUALI, ANC...</td>\n    </tr>\n    <tr>\n      <th>3</th>\n      <td>5806422B01</td>\n      <td>S.I.R. SISTEMI ITALIANI RISTORAZIONE SRL</td>\n      <td>IMPRESA SINGOLA (IMPRENDITORI INDIVIDUALI, ANC...</td>\n    </tr>\n    <tr>\n      <th>4</th>\n      <td>5140928BFB</td>\n      <td>CONSORZIO LOGISTICA PACCHI S.C.P.A.</td>\n      <td>IMPRESA SINGOLA (IMPRENDITORI INDIVIDUALI, ANC...</td>\n    </tr>\n    <tr>\n      <th>...</th>\n      <td>...</td>\n      <td>...</td>\n      <td>...</td>\n    </tr>\n    <tr>\n      <th>1736261</th>\n      <td>5504060DFC</td>\n      <td>SRA INSTRUMENTS SPA</td>\n      <td>IMPRESA SINGOLA (IMPRENDITORI INDIVIDUALI, ANC...</td>\n    </tr>\n    <tr>\n      <th>1736262</th>\n      <td>51493745D9</td>\n      <td>GEOROCCE S.N.C. DI TOMASONI ANGELO &amp; F.LLI</td>\n      <td>IMPRESA SINGOLA (IMPRENDITORI INDIVIDUALI, ANC...</td>\n    </tr>\n    <tr>\n      <th>1736263</th>\n      <td>56186955CA</td>\n      <td>GLAXOSMITHKLINE</td>\n      <td>IMPRESA SINGOLA (IMPRENDITORI INDIVIDUALI, ANC...</td>\n    </tr>\n    <tr>\n      <th>1736264</th>\n      <td>83412866F5</td>\n      <td>SMITH &amp; NEPHEW S.R.L.</td>\n      <td>IMPRESA SINGOLA (IMPRENDITORI INDIVIDUALI, ANC...</td>\n    </tr>\n    <tr>\n      <th>1736265</th>\n      <td>72859002E2</td>\n      <td>THERMO FISHER SCIENTIFIC SPA</td>\n      <td>IMPRESA SINGOLA (IMPRENDITORI INDIVIDUALI, ANC...</td>\n    </tr>\n  </tbody>\n</table>\n<p>1736167 rows × 3 columns</p>\n</div>"
     },
     "metadata": {},
     "execution_count": 158
    }
   ],
   "source": [
    "agg_path = \"../application/datasets/aggiudicatari/\"\n",
    "agg_df = mergeAggiudicatari(agg_path)\n",
    "\n",
    "agg_df"
   ]
  },
  {
   "source": [
    "## Join of the two cleaned dataframes"
   ],
   "cell_type": "markdown",
   "metadata": {}
  },
  {
   "cell_type": "code",
   "execution_count": 159,
   "metadata": {},
   "outputs": [],
   "source": [
    "def joinCIGAggiudicatari(cig_df, agg_df):\n",
    "\n",
    "    # join the datasets on cig (inner join)\n",
    "    full_df = pd.merge(cig_df, agg_df, on='cig', how='inner')\n",
    "\n",
    "    # return the complete dataframe\n",
    "    return full_df"
   ]
  },
  {
   "cell_type": "code",
   "execution_count": 160,
   "metadata": {},
   "outputs": [],
   "source": [
    "df = joinCIGAggiudicatari(all_cigs_df, agg_df)"
   ]
  },
  {
   "cell_type": "code",
   "execution_count": 161,
   "metadata": {},
   "outputs": [
    {
     "output_type": "execute_result",
     "data": {
      "text/plain": [
       "               cig  numero_gara  importo_complessivo_gara  n_lotti_componenti  \\\n",
       "0       7409526648      7018127                1139994.00                 9.0   \n",
       "1       7409526648      7018127                1139994.00                 9.0   \n",
       "2       7409526648      7018127                1139994.00                 9.0   \n",
       "3       7409526648      7018127                1139994.00                 9.0   \n",
       "4       7409526648      7018127                1139994.00                 9.0   \n",
       "...            ...          ...                       ...                 ...   \n",
       "484297  8520768830      7950935                 210270.25                 1.0   \n",
       "484298  8518114A09      7948581                 128000.00                 1.0   \n",
       "484299  85756290ED      8000896                 122781.00                 1.0   \n",
       "484300  8540474E16      7969348                  40000.00                 1.0   \n",
       "484301  854948388E      7977342                 210970.00                 1.0   \n",
       "\n",
       "        importo_lotto           settore data_pubblicazione  \\\n",
       "0           126666.00  SETTORI SPECIALI         2018-01-31   \n",
       "1           126666.00  SETTORI SPECIALI         2018-01-31   \n",
       "2           126666.00  SETTORI SPECIALI         2018-01-31   \n",
       "3           126666.00  SETTORI SPECIALI         2018-01-31   \n",
       "4           126666.00  SETTORI SPECIALI         2018-01-31   \n",
       "...               ...               ...                ...   \n",
       "484297      210270.25  SETTORI ORDINARI         2020-12-11   \n",
       "484298      128000.00  SETTORI SPECIALI         2020-12-21   \n",
       "484299      122781.00  SETTORI ORDINARI         2020-12-24   \n",
       "484300       40000.00  SETTORI SPECIALI         2020-12-01   \n",
       "484301      210970.00  SETTORI ORDINARI         2020-12-09   \n",
       "\n",
       "                                   tipo_scelta_contraente  \\\n",
       "0       AFFIDAMENTO DIRETTO IN ADESIONE AD ACCORDO QUA...   \n",
       "1       AFFIDAMENTO DIRETTO IN ADESIONE AD ACCORDO QUA...   \n",
       "2       AFFIDAMENTO DIRETTO IN ADESIONE AD ACCORDO QUA...   \n",
       "3       AFFIDAMENTO DIRETTO IN ADESIONE AD ACCORDO QUA...   \n",
       "4       AFFIDAMENTO DIRETTO IN ADESIONE AD ACCORDO QUA...   \n",
       "...                                                   ...   \n",
       "484297   PROCEDURA NEGOZIATA PER AFFIDAMENTI SOTTO SOGLIA   \n",
       "484298                                AFFIDAMENTO DIRETTO   \n",
       "484299     PROCEDURA NEGOZIATA SENZA PREVIA PUBBLICAZIONE   \n",
       "484300   PROCEDURA NEGOZIATA PER AFFIDAMENTI SOTTO SOGLIA   \n",
       "484301   PROCEDURA NEGOZIATA PER AFFIDAMENTI SOTTO SOGLIA   \n",
       "\n",
       "                                   modalita_realizzazione  \\\n",
       "0       CONTRATTO DAPPALTO DISCENDENTE DA ACCORDO QUAD...   \n",
       "1       CONTRATTO DAPPALTO DISCENDENTE DA ACCORDO QUAD...   \n",
       "2       CONTRATTO DAPPALTO DISCENDENTE DA ACCORDO QUAD...   \n",
       "3       CONTRATTO DAPPALTO DISCENDENTE DA ACCORDO QUAD...   \n",
       "4       CONTRATTO DAPPALTO DISCENDENTE DA ACCORDO QUAD...   \n",
       "...                                                   ...   \n",
       "484297                                CONTRATTO D'APPALTO   \n",
       "484298                                CONTRATTO D'APPALTO   \n",
       "484299                                CONTRATTO D'APPALTO   \n",
       "484300                                CONTRATTO D'APPALTO   \n",
       "484301                                CONTRATTO D'APPALTO   \n",
       "\n",
       "       denominazione_amministrazione_appaltante  \\\n",
       "0                                      HERA SPA   \n",
       "1                                      HERA SPA   \n",
       "2                                      HERA SPA   \n",
       "3                                      HERA SPA   \n",
       "4                                      HERA SPA   \n",
       "...                                         ...   \n",
       "484297                        COMUNE DI BOLOGNA   \n",
       "484298                       ACQUEVENETE S.P.A.   \n",
       "484299                       COMUNE DI BOVOLONE   \n",
       "484300                           UNARETI S.P.A.   \n",
       "484301                          COMUNE DI AULLA   \n",
       "\n",
       "                       sezione_regionale  \\\n",
       "0             SEZIONE REGIONALE CENTRALE   \n",
       "1             SEZIONE REGIONALE CENTRALE   \n",
       "2             SEZIONE REGIONALE CENTRALE   \n",
       "3             SEZIONE REGIONALE CENTRALE   \n",
       "4             SEZIONE REGIONALE CENTRALE   \n",
       "...                                  ...   \n",
       "484297  SEZIONE REGIONALE EMILIA ROMAGNA   \n",
       "484298          SEZIONE REGIONALE VENETO   \n",
       "484299          SEZIONE REGIONALE VENETO   \n",
       "484300       SEZIONE REGIONALE LOMBARDIA   \n",
       "484301         SEZIONE REGIONALE TOSCANA   \n",
       "\n",
       "                                          descrizione_cpv  \\\n",
       "0                       SERVIZI DI ASSISTENZA INFORMATICA   \n",
       "1                       SERVIZI DI ASSISTENZA INFORMATICA   \n",
       "2                       SERVIZI DI ASSISTENZA INFORMATICA   \n",
       "3                       SERVIZI DI ASSISTENZA INFORMATICA   \n",
       "4                       SERVIZI DI ASSISTENZA INFORMATICA   \n",
       "...                                                   ...   \n",
       "484297           ALTRI LAVORI DI COMPLETAMENTO DI EDIFICI   \n",
       "484298  GESTIONE DEL PARCO MACCHINE, SERVIZI DI RIPARA...   \n",
       "484299            SERVIZI DI TRASPORTO PUBBLICO TERRESTRE   \n",
       "484300      APPARECCHIATURA DI CONTROLLO E STRUMENTAZIONE   \n",
       "484301  SERVIZI DI TRATTAMENTO E SMALTIMENTO DI RIFIUT...   \n",
       "\n",
       "                             aggiudicatario  \\\n",
       "0                           TECHEDGE S.P.A.   \n",
       "1                         EVERIS ITALIA SPA   \n",
       "2                        ATOS ITALIA S.P.A.   \n",
       "3                   CAPGEMINI ITALIA S.P.A.   \n",
       "4                 CLUSTER REPLY ROMA S.R.L.   \n",
       "...                                     ...   \n",
       "484297            ES SRL PROGETTI E SISTEMI   \n",
       "484298                   TUTTODIESEL S.R.L.   \n",
       "484299  CONSORZIO EUROBUS VERONA SOC. COOP.   \n",
       "484300                          OTTOTECNICA   \n",
       "484301                            ABATE SRL   \n",
       "\n",
       "                                      tipo_aggiudicatario  \n",
       "0       IMPRESA SINGOLA (IMPRENDITORI INDIVIDUALI, ANC...  \n",
       "1       IMPRESA SINGOLA (IMPRENDITORI INDIVIDUALI, ANC...  \n",
       "2       IMPRESA SINGOLA (IMPRENDITORI INDIVIDUALI, ANC...  \n",
       "3       IMPRESA SINGOLA (IMPRENDITORI INDIVIDUALI, ANC...  \n",
       "4       CONSORZIO (CONSORZI TRA SOCIETACOOPERATIVE DI ...  \n",
       "...                                                   ...  \n",
       "484297  IMPRESA SINGOLA (IMPRENDITORI INDIVIDUALI, ANC...  \n",
       "484298  IMPRESA SINGOLA (IMPRENDITORI INDIVIDUALI, ANC...  \n",
       "484299  CONSORZIO (CONSORZI TRA SOCIETA'COOPERATIVE DI...  \n",
       "484300  IMPRESA SINGOLA (IMPRENDITORI INDIVIDUALI, ANC...  \n",
       "484301  IMPRESA SINGOLA (IMPRENDITORI INDIVIDUALI, ANC...  \n",
       "\n",
       "[484302 rows x 14 columns]"
      ],
      "text/html": "<div>\n<style scoped>\n    .dataframe tbody tr th:only-of-type {\n        vertical-align: middle;\n    }\n\n    .dataframe tbody tr th {\n        vertical-align: top;\n    }\n\n    .dataframe thead th {\n        text-align: right;\n    }\n</style>\n<table border=\"1\" class=\"dataframe\">\n  <thead>\n    <tr style=\"text-align: right;\">\n      <th></th>\n      <th>cig</th>\n      <th>numero_gara</th>\n      <th>importo_complessivo_gara</th>\n      <th>n_lotti_componenti</th>\n      <th>importo_lotto</th>\n      <th>settore</th>\n      <th>data_pubblicazione</th>\n      <th>tipo_scelta_contraente</th>\n      <th>modalita_realizzazione</th>\n      <th>denominazione_amministrazione_appaltante</th>\n      <th>sezione_regionale</th>\n      <th>descrizione_cpv</th>\n      <th>aggiudicatario</th>\n      <th>tipo_aggiudicatario</th>\n    </tr>\n  </thead>\n  <tbody>\n    <tr>\n      <th>0</th>\n      <td>7409526648</td>\n      <td>7018127</td>\n      <td>1139994.00</td>\n      <td>9.0</td>\n      <td>126666.00</td>\n      <td>SETTORI SPECIALI</td>\n      <td>2018-01-31</td>\n      <td>AFFIDAMENTO DIRETTO IN ADESIONE AD ACCORDO QUA...</td>\n      <td>CONTRATTO DAPPALTO DISCENDENTE DA ACCORDO QUAD...</td>\n      <td>HERA SPA</td>\n      <td>SEZIONE REGIONALE CENTRALE</td>\n      <td>SERVIZI DI ASSISTENZA INFORMATICA</td>\n      <td>TECHEDGE S.P.A.</td>\n      <td>IMPRESA SINGOLA (IMPRENDITORI INDIVIDUALI, ANC...</td>\n    </tr>\n    <tr>\n      <th>1</th>\n      <td>7409526648</td>\n      <td>7018127</td>\n      <td>1139994.00</td>\n      <td>9.0</td>\n      <td>126666.00</td>\n      <td>SETTORI SPECIALI</td>\n      <td>2018-01-31</td>\n      <td>AFFIDAMENTO DIRETTO IN ADESIONE AD ACCORDO QUA...</td>\n      <td>CONTRATTO DAPPALTO DISCENDENTE DA ACCORDO QUAD...</td>\n      <td>HERA SPA</td>\n      <td>SEZIONE REGIONALE CENTRALE</td>\n      <td>SERVIZI DI ASSISTENZA INFORMATICA</td>\n      <td>EVERIS ITALIA SPA</td>\n      <td>IMPRESA SINGOLA (IMPRENDITORI INDIVIDUALI, ANC...</td>\n    </tr>\n    <tr>\n      <th>2</th>\n      <td>7409526648</td>\n      <td>7018127</td>\n      <td>1139994.00</td>\n      <td>9.0</td>\n      <td>126666.00</td>\n      <td>SETTORI SPECIALI</td>\n      <td>2018-01-31</td>\n      <td>AFFIDAMENTO DIRETTO IN ADESIONE AD ACCORDO QUA...</td>\n      <td>CONTRATTO DAPPALTO DISCENDENTE DA ACCORDO QUAD...</td>\n      <td>HERA SPA</td>\n      <td>SEZIONE REGIONALE CENTRALE</td>\n      <td>SERVIZI DI ASSISTENZA INFORMATICA</td>\n      <td>ATOS ITALIA S.P.A.</td>\n      <td>IMPRESA SINGOLA (IMPRENDITORI INDIVIDUALI, ANC...</td>\n    </tr>\n    <tr>\n      <th>3</th>\n      <td>7409526648</td>\n      <td>7018127</td>\n      <td>1139994.00</td>\n      <td>9.0</td>\n      <td>126666.00</td>\n      <td>SETTORI SPECIALI</td>\n      <td>2018-01-31</td>\n      <td>AFFIDAMENTO DIRETTO IN ADESIONE AD ACCORDO QUA...</td>\n      <td>CONTRATTO DAPPALTO DISCENDENTE DA ACCORDO QUAD...</td>\n      <td>HERA SPA</td>\n      <td>SEZIONE REGIONALE CENTRALE</td>\n      <td>SERVIZI DI ASSISTENZA INFORMATICA</td>\n      <td>CAPGEMINI ITALIA S.P.A.</td>\n      <td>IMPRESA SINGOLA (IMPRENDITORI INDIVIDUALI, ANC...</td>\n    </tr>\n    <tr>\n      <th>4</th>\n      <td>7409526648</td>\n      <td>7018127</td>\n      <td>1139994.00</td>\n      <td>9.0</td>\n      <td>126666.00</td>\n      <td>SETTORI SPECIALI</td>\n      <td>2018-01-31</td>\n      <td>AFFIDAMENTO DIRETTO IN ADESIONE AD ACCORDO QUA...</td>\n      <td>CONTRATTO DAPPALTO DISCENDENTE DA ACCORDO QUAD...</td>\n      <td>HERA SPA</td>\n      <td>SEZIONE REGIONALE CENTRALE</td>\n      <td>SERVIZI DI ASSISTENZA INFORMATICA</td>\n      <td>CLUSTER REPLY ROMA S.R.L.</td>\n      <td>CONSORZIO (CONSORZI TRA SOCIETACOOPERATIVE DI ...</td>\n    </tr>\n    <tr>\n      <th>...</th>\n      <td>...</td>\n      <td>...</td>\n      <td>...</td>\n      <td>...</td>\n      <td>...</td>\n      <td>...</td>\n      <td>...</td>\n      <td>...</td>\n      <td>...</td>\n      <td>...</td>\n      <td>...</td>\n      <td>...</td>\n      <td>...</td>\n      <td>...</td>\n    </tr>\n    <tr>\n      <th>484297</th>\n      <td>8520768830</td>\n      <td>7950935</td>\n      <td>210270.25</td>\n      <td>1.0</td>\n      <td>210270.25</td>\n      <td>SETTORI ORDINARI</td>\n      <td>2020-12-11</td>\n      <td>PROCEDURA NEGOZIATA PER AFFIDAMENTI SOTTO SOGLIA</td>\n      <td>CONTRATTO D'APPALTO</td>\n      <td>COMUNE DI BOLOGNA</td>\n      <td>SEZIONE REGIONALE EMILIA ROMAGNA</td>\n      <td>ALTRI LAVORI DI COMPLETAMENTO DI EDIFICI</td>\n      <td>ES SRL PROGETTI E SISTEMI</td>\n      <td>IMPRESA SINGOLA (IMPRENDITORI INDIVIDUALI, ANC...</td>\n    </tr>\n    <tr>\n      <th>484298</th>\n      <td>8518114A09</td>\n      <td>7948581</td>\n      <td>128000.00</td>\n      <td>1.0</td>\n      <td>128000.00</td>\n      <td>SETTORI SPECIALI</td>\n      <td>2020-12-21</td>\n      <td>AFFIDAMENTO DIRETTO</td>\n      <td>CONTRATTO D'APPALTO</td>\n      <td>ACQUEVENETE S.P.A.</td>\n      <td>SEZIONE REGIONALE VENETO</td>\n      <td>GESTIONE DEL PARCO MACCHINE, SERVIZI DI RIPARA...</td>\n      <td>TUTTODIESEL S.R.L.</td>\n      <td>IMPRESA SINGOLA (IMPRENDITORI INDIVIDUALI, ANC...</td>\n    </tr>\n    <tr>\n      <th>484299</th>\n      <td>85756290ED</td>\n      <td>8000896</td>\n      <td>122781.00</td>\n      <td>1.0</td>\n      <td>122781.00</td>\n      <td>SETTORI ORDINARI</td>\n      <td>2020-12-24</td>\n      <td>PROCEDURA NEGOZIATA SENZA PREVIA PUBBLICAZIONE</td>\n      <td>CONTRATTO D'APPALTO</td>\n      <td>COMUNE DI BOVOLONE</td>\n      <td>SEZIONE REGIONALE VENETO</td>\n      <td>SERVIZI DI TRASPORTO PUBBLICO TERRESTRE</td>\n      <td>CONSORZIO EUROBUS VERONA SOC. COOP.</td>\n      <td>CONSORZIO (CONSORZI TRA SOCIETA'COOPERATIVE DI...</td>\n    </tr>\n    <tr>\n      <th>484300</th>\n      <td>8540474E16</td>\n      <td>7969348</td>\n      <td>40000.00</td>\n      <td>1.0</td>\n      <td>40000.00</td>\n      <td>SETTORI SPECIALI</td>\n      <td>2020-12-01</td>\n      <td>PROCEDURA NEGOZIATA PER AFFIDAMENTI SOTTO SOGLIA</td>\n      <td>CONTRATTO D'APPALTO</td>\n      <td>UNARETI S.P.A.</td>\n      <td>SEZIONE REGIONALE LOMBARDIA</td>\n      <td>APPARECCHIATURA DI CONTROLLO E STRUMENTAZIONE</td>\n      <td>OTTOTECNICA</td>\n      <td>IMPRESA SINGOLA (IMPRENDITORI INDIVIDUALI, ANC...</td>\n    </tr>\n    <tr>\n      <th>484301</th>\n      <td>854948388E</td>\n      <td>7977342</td>\n      <td>210970.00</td>\n      <td>1.0</td>\n      <td>210970.00</td>\n      <td>SETTORI ORDINARI</td>\n      <td>2020-12-09</td>\n      <td>PROCEDURA NEGOZIATA PER AFFIDAMENTI SOTTO SOGLIA</td>\n      <td>CONTRATTO D'APPALTO</td>\n      <td>COMUNE DI AULLA</td>\n      <td>SEZIONE REGIONALE TOSCANA</td>\n      <td>SERVIZI DI TRATTAMENTO E SMALTIMENTO DI RIFIUT...</td>\n      <td>ABATE SRL</td>\n      <td>IMPRESA SINGOLA (IMPRENDITORI INDIVIDUALI, ANC...</td>\n    </tr>\n  </tbody>\n</table>\n<p>484302 rows × 14 columns</p>\n</div>"
     },
     "metadata": {},
     "execution_count": 161
    }
   ],
   "source": [
    "df"
   ]
  },
  {
   "cell_type": "code",
   "execution_count": null,
   "metadata": {},
   "outputs": [],
   "source": []
  }
 ]
}