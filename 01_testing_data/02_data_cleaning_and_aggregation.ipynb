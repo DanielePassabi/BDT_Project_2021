{
 "metadata": {
  "language_info": {
   "codemirror_mode": {
    "name": "ipython",
    "version": 3
   },
   "file_extension": ".py",
   "mimetype": "text/x-python",
   "name": "python",
   "nbconvert_exporter": "python",
   "pygments_lexer": "ipython3",
   "version": "3.9.2"
  },
  "orig_nbformat": 2,
  "kernelspec": {
   "name": "python392jvsc74a57bd09b4d0864ee092708f16b2542940b1fbc0b0becef5f5c7f918ecc5aefd1393b23",
   "display_name": "Python 3.9.2 64-bit ('BDT_2021': conda)"
  }
 },
 "nbformat": 4,
 "nbformat_minor": 2,
 "cells": [
  {
   "source": [
    "# Data cleaning and aggregation"
   ],
   "cell_type": "markdown",
   "metadata": {}
  },
  {
   "source": [
    "### Libraries"
   ],
   "cell_type": "markdown",
   "metadata": {}
  },
  {
   "cell_type": "code",
   "execution_count": 2,
   "metadata": {},
   "outputs": [
    {
     "output_type": "stream",
     "name": "stdout",
     "text": [
      "Libraries Imported\n"
     ]
    }
   ],
   "source": [
    "import pandas as pd\n",
    "\n",
    "print(\"Libraries Imported\")"
   ]
  },
  {
   "cell_type": "code",
   "execution_count": 3,
   "metadata": {},
   "outputs": [],
   "source": [
    "def importaCIG(cig_path):\n",
    "    df = pd.read_csv(cig_path, sep=\";\")\n",
    "    return df"
   ]
  },
  {
   "cell_type": "code",
   "execution_count": 4,
   "metadata": {},
   "outputs": [],
   "source": [
    "test_path = \"../application/datasets/cig/cig_csv_2020_01.csv\"\n",
    "\n",
    "gen_2020_df = importaCIG(test_path)"
   ]
  },
  {
   "cell_type": "code",
   "execution_count": 5,
   "metadata": {},
   "outputs": [
    {
     "output_type": "execute_result",
     "data": {
      "text/plain": [
       "              cig cig_accordo_quadro  numero_gara  \\\n",
       "0      8103641819                NaN      7599631   \n",
       "1      81688593B3         6960244F09      7654374   \n",
       "2      8138647FF4                NaN      7625550   \n",
       "3      8192749659                NaN      7674520   \n",
       "4      8198437C3A         81790784AF      7679807   \n",
       "...           ...                ...          ...   \n",
       "27704  8158987112         755577893F      7646737   \n",
       "27705  818437798D                NaN      7667288   \n",
       "27706  8178544C01         75043132FE      7662287   \n",
       "27707  81368927B1                NaN      7628540   \n",
       "27708  81686642C8                NaN      7652823   \n",
       "\n",
       "                                            oggetto_gara  \\\n",
       "0      SERVIZIO PER VERIFICHE TECNICHE FINALIZZATE AL...   \n",
       "1          FORNITURA DI ABBONAMENTI A QUOTIDIANI ON LINE   \n",
       "2      FORNITURA PRODOTTI FARMACEUTICI PER AZIENDE SA...   \n",
       "3      PUBBLICAZIONE SUL NUOVO QUOTIDIANO DI PUGLIA -...   \n",
       "4      ASST MONZA PROSECUZIONE TECNICA DAL 01.01.2020...   \n",
       "...                                                  ...   \n",
       "27704  ADESIONE ALLE CONVENZIONI ATTIVATE DALLA CENTR...   \n",
       "27705  ACQUISIZIONE DI SERVIZI INFORMATICI PER IL POL...   \n",
       "27706  CA 14-2020 AQ 396/2018 INTERVENTI DI ADEGUAMEN...   \n",
       "27707  EVENTO ALLUVIONALE NOVEMBRE 2019 - S.P. 29 AGG...   \n",
       "27708  FORNITURA DI SOLUZIONI INFUSIONALI E FIALAGGIO...   \n",
       "\n",
       "       importo_complessivo_gara  n_lotti_componenti  \\\n",
       "0                  8.763443e+05                   4   \n",
       "1                  7.332000e+02                   1   \n",
       "2                  1.285590e+09                2364   \n",
       "3                  1.200000e+03                   1   \n",
       "4                  5.700000e+04                   1   \n",
       "...                         ...                 ...   \n",
       "27704              4.080000e+04                   1   \n",
       "27705              5.710000e+04                   1   \n",
       "27706              3.500000e+05                   1   \n",
       "27707              1.717947e+05                   1   \n",
       "27708              4.651681e+07                 138   \n",
       "\n",
       "                                           oggetto_lotto  importo_lotto  \\\n",
       "0      SERVIZIO PER VERIFICHE TECNICHE FINALIZZATE AL...      220888.00   \n",
       "1          FORNITURA DI ABBONAMENTI A QUOTIDIANI ON LINE         733.20   \n",
       "2      LOTTO 105 - A10BB01 - GLIBENCLAMIDE - COMPRESS...         195.80   \n",
       "3      PUBBLICAZIONE SUL NUOVO QUOTIDIANO DI PUGLIA -...        1200.00   \n",
       "4      ASST MONZA PROSECUZIONE TECNICA DAL 01.01.2020...       57000.00   \n",
       "...                                                  ...            ...   \n",
       "27704  ADESIONE ALLE CONVENZIONI ATTIVATE DALLA CENTR...       40800.00   \n",
       "27705  ACQUISIZIONE DI SERVIZI INFORMATICI PER IL POL...       57100.00   \n",
       "27706  CA 14-2020 AQ 396/2018 INTERVENTI DI ADEGUAMEN...      350000.00   \n",
       "27707  EVENTO ALLUVIONALE NOVEMBRE 2019 - S.P. 29 AGG...      171794.74   \n",
       "27708             LOTTO 51 - MANNITOLO VOLUME 18% 100 ML      160648.22   \n",
       "\n",
       "      oggetto_principale_contratto   stato  ... cf_amministrazione_appaltante  \\\n",
       "0                          SERVIZI  ATTIVO  ...                   00397470873   \n",
       "1                        FORNITURE  ATTIVO  ...                   80014930327   \n",
       "2                        FORNITURE  ATTIVO  ...                   00849050109   \n",
       "3                          SERVIZI  ATTIVO  ...                   00347000721   \n",
       "4                          SERVIZI  ATTIVO  ...                   09314290967   \n",
       "...                            ...     ...  ...                           ...   \n",
       "27704                    FORNITURE  ATTIVO  ...                   01127900049   \n",
       "27705                      SERVIZI  ATTIVO  ...                   98007650173   \n",
       "27706                       LAVORI  ATTIVO  ...                   01585570581   \n",
       "27707                       LAVORI  ATTIVO  ...                   00311260095   \n",
       "27708                    FORNITURE  ATTIVO  ...                   09740180014   \n",
       "\n",
       "                denominazione_amministrazione_appaltante  \\\n",
       "0                        CITTA  METROPOLITANA DI CATANIA   \n",
       "1                 REGIONE AUTONOMA FRIULI-VENEZIA GIULIA   \n",
       "2                                        REGIONE LIGURIA   \n",
       "3                                ACQUEDOTTO PUGLIESE SPA   \n",
       "4      AZIENDA SOCIO SANITARIA TERRITORIALE (ASST) DI...   \n",
       "...                                                  ...   \n",
       "27704            AZIENDA OSPEDALIERA SANTA CROCE E CARLE   \n",
       "27705                  UNIVERSITA DEGLI STUDI DI BRESCIA   \n",
       "27706    RETE FERROVIARIA ITALIANA - SOCIETA  PER AZIONI   \n",
       "27707              AMMINISTRAZIONE PROVINCIALE DI SAVONA   \n",
       "27708  SOCIETA  DI COMMITTENZA REGIONE PIEMONTE S.P.A...   \n",
       "\n",
       "                             sezione_regionale  \\\n",
       "0                    SEZIONE REGIONALE SICILIA   \n",
       "1      SEZIONE REGIONALE FRIULI VENEZIA GIULIA   \n",
       "2                    SEZIONE REGIONALE LIGURIA   \n",
       "3                     SEZIONE REGIONALE PUGLIA   \n",
       "4                  SEZIONE REGIONALE LOMBARDIA   \n",
       "...                                        ...   \n",
       "27704               SEZIONE REGIONALE PIEMONTE   \n",
       "27705               SEZIONE REGIONALE CENTRALE   \n",
       "27706               SEZIONE REGIONALE CENTRALE   \n",
       "27707                SEZIONE REGIONALE LIGURIA   \n",
       "27708               SEZIONE REGIONALE PIEMONTE   \n",
       "\n",
       "                            id_centro_costo  \\\n",
       "0      297352E3-47F6-43AA-BA4B-C35511057B8C   \n",
       "1      E0A3B411-CDB6-403D-8B0C-A96E8B625A78   \n",
       "2      5C196CA4-B1AA-4E24-8573-C7A7F932DE59   \n",
       "3      1E436D60-9721-4BE1-BBD0-92EE48A6CDE9   \n",
       "4      51A96404-E3CD-4D28-875E-6F55C37600DD   \n",
       "...                                     ...   \n",
       "27704  306BF4EE-8873-4DB0-A583-189E7B0CF3E3   \n",
       "27705  63CC9555-8688-4F3F-8EA9-01AF716BC201   \n",
       "27706  C530A3DD-88C9-4E71-A865-C2D9463CCD6F   \n",
       "27707  521D1AA5-68C8-4D51-AD2C-0403438864E3   \n",
       "27708  81E3283D-98BB-4709-9CB9-F9799E7E7F53   \n",
       "\n",
       "                              denominazione_centro_costo  anno_pubblicazione  \\\n",
       "0                                    DIPARTIMENTO LL.PP.                2020   \n",
       "1      DIREZIONE GENERALE SERVIZIO PROGRAMMAZIONE PIA...                2020   \n",
       "2                            SUAR - SOGGETTO AGGREGATORE                2020   \n",
       "3      DIREZIONE SERVIZI CENTRALI PROCUREMENT TECNICI...                2020   \n",
       "4                     UOC GESTIONE ACQUISTI ED ECONOMATO                2020   \n",
       "...                                                  ...                 ...   \n",
       "27704                     S.C.I. ACQUISTI BENI E SERVIZI                2020   \n",
       "27705                               SERVIZIO SERVIZI ICT                2020   \n",
       "27706           DIREZIONE TERRITORIALE PRODUZIONE GENOVA                2020   \n",
       "27707                                  SETTORE VIABILITA                2020   \n",
       "27708                                           ACQUISTI                2020   \n",
       "\n",
       "      mese_pubblicazione     cod_cpv  \\\n",
       "0                      1  71631300-3   \n",
       "1                      1  22210000-5   \n",
       "2                      1  33690000-3   \n",
       "3                      1  79970000-4   \n",
       "4                      1  85143000-3   \n",
       "...                  ...         ...   \n",
       "27704                  1  33690000-3   \n",
       "27705                  1  48219000-6   \n",
       "27706                  1  63711000-6   \n",
       "27707                  1  45233140-2   \n",
       "27708                  1  33692100-8   \n",
       "\n",
       "                                    descrizione_cpv  flag_prevalente  \n",
       "0           SERVIZI DI ISPEZIONE TECNICA DI EDIFICI              1.0  \n",
       "1                                        QUOTIDIANI              1.0  \n",
       "2                                   MEDICINALI VARI              1.0  \n",
       "3                               SERVIZI DI EDITORIA              1.0  \n",
       "4                              SERVIZI DI AMBULANZA              1.0  \n",
       "...                                             ...              ...  \n",
       "27704                               MEDICINALI VARI              1.0  \n",
       "27705              PACCHETTI SOFTWARE VARI PER RETI              1.0  \n",
       "27706  SERVIZI DI SUPPORTO AL TRASPORTO FERROVIARIO              1.0  \n",
       "27707                               LAVORI STRADALI              1.0  \n",
       "27708                         SOLUZIONI INFUSIONALI              1.0  \n",
       "\n",
       "[27709 rows x 30 columns]"
      ],
      "text/html": "<div>\n<style scoped>\n    .dataframe tbody tr th:only-of-type {\n        vertical-align: middle;\n    }\n\n    .dataframe tbody tr th {\n        vertical-align: top;\n    }\n\n    .dataframe thead th {\n        text-align: right;\n    }\n</style>\n<table border=\"1\" class=\"dataframe\">\n  <thead>\n    <tr style=\"text-align: right;\">\n      <th></th>\n      <th>cig</th>\n      <th>cig_accordo_quadro</th>\n      <th>numero_gara</th>\n      <th>oggetto_gara</th>\n      <th>importo_complessivo_gara</th>\n      <th>n_lotti_componenti</th>\n      <th>oggetto_lotto</th>\n      <th>importo_lotto</th>\n      <th>oggetto_principale_contratto</th>\n      <th>stato</th>\n      <th>...</th>\n      <th>cf_amministrazione_appaltante</th>\n      <th>denominazione_amministrazione_appaltante</th>\n      <th>sezione_regionale</th>\n      <th>id_centro_costo</th>\n      <th>denominazione_centro_costo</th>\n      <th>anno_pubblicazione</th>\n      <th>mese_pubblicazione</th>\n      <th>cod_cpv</th>\n      <th>descrizione_cpv</th>\n      <th>flag_prevalente</th>\n    </tr>\n  </thead>\n  <tbody>\n    <tr>\n      <th>0</th>\n      <td>8103641819</td>\n      <td>NaN</td>\n      <td>7599631</td>\n      <td>SERVIZIO PER VERIFICHE TECNICHE FINALIZZATE AL...</td>\n      <td>8.763443e+05</td>\n      <td>4</td>\n      <td>SERVIZIO PER VERIFICHE TECNICHE FINALIZZATE AL...</td>\n      <td>220888.00</td>\n      <td>SERVIZI</td>\n      <td>ATTIVO</td>\n      <td>...</td>\n      <td>00397470873</td>\n      <td>CITTA  METROPOLITANA DI CATANIA</td>\n      <td>SEZIONE REGIONALE SICILIA</td>\n      <td>297352E3-47F6-43AA-BA4B-C35511057B8C</td>\n      <td>DIPARTIMENTO LL.PP.</td>\n      <td>2020</td>\n      <td>1</td>\n      <td>71631300-3</td>\n      <td>SERVIZI DI ISPEZIONE TECNICA DI EDIFICI</td>\n      <td>1.0</td>\n    </tr>\n    <tr>\n      <th>1</th>\n      <td>81688593B3</td>\n      <td>6960244F09</td>\n      <td>7654374</td>\n      <td>FORNITURA DI ABBONAMENTI A QUOTIDIANI ON LINE</td>\n      <td>7.332000e+02</td>\n      <td>1</td>\n      <td>FORNITURA DI ABBONAMENTI A QUOTIDIANI ON LINE</td>\n      <td>733.20</td>\n      <td>FORNITURE</td>\n      <td>ATTIVO</td>\n      <td>...</td>\n      <td>80014930327</td>\n      <td>REGIONE AUTONOMA FRIULI-VENEZIA GIULIA</td>\n      <td>SEZIONE REGIONALE FRIULI VENEZIA GIULIA</td>\n      <td>E0A3B411-CDB6-403D-8B0C-A96E8B625A78</td>\n      <td>DIREZIONE GENERALE SERVIZIO PROGRAMMAZIONE PIA...</td>\n      <td>2020</td>\n      <td>1</td>\n      <td>22210000-5</td>\n      <td>QUOTIDIANI</td>\n      <td>1.0</td>\n    </tr>\n    <tr>\n      <th>2</th>\n      <td>8138647FF4</td>\n      <td>NaN</td>\n      <td>7625550</td>\n      <td>FORNITURA PRODOTTI FARMACEUTICI PER AZIENDE SA...</td>\n      <td>1.285590e+09</td>\n      <td>2364</td>\n      <td>LOTTO 105 - A10BB01 - GLIBENCLAMIDE - COMPRESS...</td>\n      <td>195.80</td>\n      <td>FORNITURE</td>\n      <td>ATTIVO</td>\n      <td>...</td>\n      <td>00849050109</td>\n      <td>REGIONE LIGURIA</td>\n      <td>SEZIONE REGIONALE LIGURIA</td>\n      <td>5C196CA4-B1AA-4E24-8573-C7A7F932DE59</td>\n      <td>SUAR - SOGGETTO AGGREGATORE</td>\n      <td>2020</td>\n      <td>1</td>\n      <td>33690000-3</td>\n      <td>MEDICINALI VARI</td>\n      <td>1.0</td>\n    </tr>\n    <tr>\n      <th>3</th>\n      <td>8192749659</td>\n      <td>NaN</td>\n      <td>7674520</td>\n      <td>PUBBLICAZIONE SUL NUOVO QUOTIDIANO DI PUGLIA -...</td>\n      <td>1.200000e+03</td>\n      <td>1</td>\n      <td>PUBBLICAZIONE SUL NUOVO QUOTIDIANO DI PUGLIA -...</td>\n      <td>1200.00</td>\n      <td>SERVIZI</td>\n      <td>ATTIVO</td>\n      <td>...</td>\n      <td>00347000721</td>\n      <td>ACQUEDOTTO PUGLIESE SPA</td>\n      <td>SEZIONE REGIONALE PUGLIA</td>\n      <td>1E436D60-9721-4BE1-BBD0-92EE48A6CDE9</td>\n      <td>DIREZIONE SERVIZI CENTRALI PROCUREMENT TECNICI...</td>\n      <td>2020</td>\n      <td>1</td>\n      <td>79970000-4</td>\n      <td>SERVIZI DI EDITORIA</td>\n      <td>1.0</td>\n    </tr>\n    <tr>\n      <th>4</th>\n      <td>8198437C3A</td>\n      <td>81790784AF</td>\n      <td>7679807</td>\n      <td>ASST MONZA PROSECUZIONE TECNICA DAL 01.01.2020...</td>\n      <td>5.700000e+04</td>\n      <td>1</td>\n      <td>ASST MONZA PROSECUZIONE TECNICA DAL 01.01.2020...</td>\n      <td>57000.00</td>\n      <td>SERVIZI</td>\n      <td>ATTIVO</td>\n      <td>...</td>\n      <td>09314290967</td>\n      <td>AZIENDA SOCIO SANITARIA TERRITORIALE (ASST) DI...</td>\n      <td>SEZIONE REGIONALE LOMBARDIA</td>\n      <td>51A96404-E3CD-4D28-875E-6F55C37600DD</td>\n      <td>UOC GESTIONE ACQUISTI ED ECONOMATO</td>\n      <td>2020</td>\n      <td>1</td>\n      <td>85143000-3</td>\n      <td>SERVIZI DI AMBULANZA</td>\n      <td>1.0</td>\n    </tr>\n    <tr>\n      <th>...</th>\n      <td>...</td>\n      <td>...</td>\n      <td>...</td>\n      <td>...</td>\n      <td>...</td>\n      <td>...</td>\n      <td>...</td>\n      <td>...</td>\n      <td>...</td>\n      <td>...</td>\n      <td>...</td>\n      <td>...</td>\n      <td>...</td>\n      <td>...</td>\n      <td>...</td>\n      <td>...</td>\n      <td>...</td>\n      <td>...</td>\n      <td>...</td>\n      <td>...</td>\n      <td>...</td>\n    </tr>\n    <tr>\n      <th>27704</th>\n      <td>8158987112</td>\n      <td>755577893F</td>\n      <td>7646737</td>\n      <td>ADESIONE ALLE CONVENZIONI ATTIVATE DALLA CENTR...</td>\n      <td>4.080000e+04</td>\n      <td>1</td>\n      <td>ADESIONE ALLE CONVENZIONI ATTIVATE DALLA CENTR...</td>\n      <td>40800.00</td>\n      <td>FORNITURE</td>\n      <td>ATTIVO</td>\n      <td>...</td>\n      <td>01127900049</td>\n      <td>AZIENDA OSPEDALIERA SANTA CROCE E CARLE</td>\n      <td>SEZIONE REGIONALE PIEMONTE</td>\n      <td>306BF4EE-8873-4DB0-A583-189E7B0CF3E3</td>\n      <td>S.C.I. ACQUISTI BENI E SERVIZI</td>\n      <td>2020</td>\n      <td>1</td>\n      <td>33690000-3</td>\n      <td>MEDICINALI VARI</td>\n      <td>1.0</td>\n    </tr>\n    <tr>\n      <th>27705</th>\n      <td>818437798D</td>\n      <td>NaN</td>\n      <td>7667288</td>\n      <td>ACQUISIZIONE DI SERVIZI INFORMATICI PER IL POL...</td>\n      <td>5.710000e+04</td>\n      <td>1</td>\n      <td>ACQUISIZIONE DI SERVIZI INFORMATICI PER IL POL...</td>\n      <td>57100.00</td>\n      <td>SERVIZI</td>\n      <td>ATTIVO</td>\n      <td>...</td>\n      <td>98007650173</td>\n      <td>UNIVERSITA DEGLI STUDI DI BRESCIA</td>\n      <td>SEZIONE REGIONALE CENTRALE</td>\n      <td>63CC9555-8688-4F3F-8EA9-01AF716BC201</td>\n      <td>SERVIZIO SERVIZI ICT</td>\n      <td>2020</td>\n      <td>1</td>\n      <td>48219000-6</td>\n      <td>PACCHETTI SOFTWARE VARI PER RETI</td>\n      <td>1.0</td>\n    </tr>\n    <tr>\n      <th>27706</th>\n      <td>8178544C01</td>\n      <td>75043132FE</td>\n      <td>7662287</td>\n      <td>CA 14-2020 AQ 396/2018 INTERVENTI DI ADEGUAMEN...</td>\n      <td>3.500000e+05</td>\n      <td>1</td>\n      <td>CA 14-2020 AQ 396/2018 INTERVENTI DI ADEGUAMEN...</td>\n      <td>350000.00</td>\n      <td>LAVORI</td>\n      <td>ATTIVO</td>\n      <td>...</td>\n      <td>01585570581</td>\n      <td>RETE FERROVIARIA ITALIANA - SOCIETA  PER AZIONI</td>\n      <td>SEZIONE REGIONALE CENTRALE</td>\n      <td>C530A3DD-88C9-4E71-A865-C2D9463CCD6F</td>\n      <td>DIREZIONE TERRITORIALE PRODUZIONE GENOVA</td>\n      <td>2020</td>\n      <td>1</td>\n      <td>63711000-6</td>\n      <td>SERVIZI DI SUPPORTO AL TRASPORTO FERROVIARIO</td>\n      <td>1.0</td>\n    </tr>\n    <tr>\n      <th>27707</th>\n      <td>81368927B1</td>\n      <td>NaN</td>\n      <td>7628540</td>\n      <td>EVENTO ALLUVIONALE NOVEMBRE 2019 - S.P. 29 AGG...</td>\n      <td>1.717947e+05</td>\n      <td>1</td>\n      <td>EVENTO ALLUVIONALE NOVEMBRE 2019 - S.P. 29 AGG...</td>\n      <td>171794.74</td>\n      <td>LAVORI</td>\n      <td>ATTIVO</td>\n      <td>...</td>\n      <td>00311260095</td>\n      <td>AMMINISTRAZIONE PROVINCIALE DI SAVONA</td>\n      <td>SEZIONE REGIONALE LIGURIA</td>\n      <td>521D1AA5-68C8-4D51-AD2C-0403438864E3</td>\n      <td>SETTORE VIABILITA</td>\n      <td>2020</td>\n      <td>1</td>\n      <td>45233140-2</td>\n      <td>LAVORI STRADALI</td>\n      <td>1.0</td>\n    </tr>\n    <tr>\n      <th>27708</th>\n      <td>81686642C8</td>\n      <td>NaN</td>\n      <td>7652823</td>\n      <td>FORNITURA DI SOLUZIONI INFUSIONALI E FIALAGGIO...</td>\n      <td>4.651681e+07</td>\n      <td>138</td>\n      <td>LOTTO 51 - MANNITOLO VOLUME 18% 100 ML</td>\n      <td>160648.22</td>\n      <td>FORNITURE</td>\n      <td>ATTIVO</td>\n      <td>...</td>\n      <td>09740180014</td>\n      <td>SOCIETA  DI COMMITTENZA REGIONE PIEMONTE S.P.A...</td>\n      <td>SEZIONE REGIONALE PIEMONTE</td>\n      <td>81E3283D-98BB-4709-9CB9-F9799E7E7F53</td>\n      <td>ACQUISTI</td>\n      <td>2020</td>\n      <td>1</td>\n      <td>33692100-8</td>\n      <td>SOLUZIONI INFUSIONALI</td>\n      <td>1.0</td>\n    </tr>\n  </tbody>\n</table>\n<p>27709 rows × 30 columns</p>\n</div>"
     },
     "metadata": {},
     "execution_count": 5
    }
   ],
   "source": [
    "gen_2020_df"
   ]
  },
  {
   "cell_type": "code",
   "execution_count": null,
   "metadata": {},
   "outputs": [],
   "source": [
    "# Operation 1 - Select only meaningful columns\n",
    "cig_df = cig_df[[\"cig\", \"numero_gara\",\"importo_complessivo_gara\"]]"
   ]
  }
 ]
}