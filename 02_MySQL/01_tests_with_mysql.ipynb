{
 "metadata": {
  "language_info": {
   "codemirror_mode": {
    "name": "ipython",
    "version": 3
   },
   "file_extension": ".py",
   "mimetype": "text/x-python",
   "name": "python",
   "nbconvert_exporter": "python",
   "pygments_lexer": "ipython3",
   "version": "3.8.5"
  },
  "orig_nbformat": 2,
  "kernelspec": {
   "name": "python385jvsc74a57bd007efdcd4b820c98a756949507a4d29d7862823915ec7477944641bea022f4f62",
   "display_name": "Python 3.8.5 64-bit ('base': conda)"
  }
 },
 "nbformat": 4,
 "nbformat_minor": 2,
 "cells": [
  {
   "source": [
    "# MySQL tests"
   ],
   "cell_type": "markdown",
   "metadata": {}
  },
  {
   "source": [
    "### Libraries"
   ],
   "cell_type": "markdown",
   "metadata": {}
  },
  {
   "cell_type": "code",
   "execution_count": 5,
   "metadata": {},
   "outputs": [
    {
     "output_type": "stream",
     "name": "stdout",
     "text": [
      "Libraries Imported\n"
     ]
    }
   ],
   "source": [
    "import pandas as pd\n",
    "import mysql.connector\n",
    "from tqdm import tqdm\n",
    "\n",
    "print(\"Libraries Imported\")"
   ]
  },
  {
   "source": [
    "### Get the csv"
   ],
   "cell_type": "markdown",
   "metadata": {}
  },
  {
   "cell_type": "code",
   "execution_count": 9,
   "metadata": {},
   "outputs": [
    {
     "output_type": "execute_result",
     "data": {
      "text/plain": [
       "          cig  numero_gara  importo_complessivo_gara  n_lotti_componenti  \\\n",
       "0  43786532C3      4334605                  273971.0                 1.0   \n",
       "1  326325398E      3283009                 1680000.0                 8.0   \n",
       "2  32173300B5      3237166                   60000.0                 1.0   \n",
       "3  270171990A      2759518                  900000.0                 5.0   \n",
       "4  0941878E4C       979021                   56160.0                 1.0   \n",
       "\n",
       "   importo_lotto           settore data_pubblicazione  \\\n",
       "0       273971.0  SETTORI SPECIALI         2007-01-02   \n",
       "1       130000.0  SETTORI ORDINARI         2007-01-10   \n",
       "2        60000.0  SETTORI ORDINARI         2007-01-26   \n",
       "3       220000.0  SETTORI ORDINARI         2007-01-24   \n",
       "4        56160.0  SETTORI ORDINARI         2007-01-09   \n",
       "\n",
       "                           tipo_scelta_contraente    modalita_realizzazione  \\\n",
       "0                             AFFIDAMENTO DIRETTO       CONTRATTO D'APPALTO   \n",
       "1                                PROCEDURA APERTA        CONTRATTO DAPPALTO   \n",
       "2  PROCEDURA NEGOZIATA SENZA PREVIA PUBBLICAZIONE        CONTRATTO DAPPALTO   \n",
       "3                             PROCEDURA RISTRETTA       CONTRATTO D'APPALTO   \n",
       "4    AFFIDAMENTO IN ECONOMIA - COTTIMO FIDUCIARIO  ACQUISIZIONE IN ECONOMIA   \n",
       "\n",
       "            denominazione_amministrazione_appaltante  \\\n",
       "0                                  ACEA ATO 5 S.P.A.   \n",
       "1                                        ASL TARANTO   \n",
       "2                      AZIENDA ULSS N. 3 SERENISSIMA   \n",
       "3                                  CONSER V.C.O. SPA   \n",
       "4  MINISTERO DELLE INFRASTRUTTURE E DEI TRASPORTI...   \n",
       "\n",
       "            sezione_regionale  \\\n",
       "0     SEZIONE REGIONALE LAZIO   \n",
       "1    SEZIONE REGIONALE PUGLIA   \n",
       "2    SEZIONE REGIONALE VENETO   \n",
       "3  SEZIONE REGIONALE PIEMONTE   \n",
       "4  SEZIONE REGIONALE CENTRALE   \n",
       "\n",
       "                                     descrizione_cpv  \\\n",
       "0        LAVORI DI COSTRUZIONE PER OPERE IDRAULICHE.   \n",
       "1                   SISTEMA DI DIAGNOSI RADIOLOGICA.   \n",
       "2                      PRESIDI MEDICO-SANITARI VARI.   \n",
       "3  AUTOVEICOLI PER LA RACCOLTA DI RIFIUTI CON COM...   \n",
       "4            RIPARAZIONE E MANUTENZIONE DI IMPIANTI.   \n",
       "\n",
       "                            aggiudicatario  \\\n",
       "0            WALTER FREZZA COSTRUZIONI SRL   \n",
       "1                            SISMED S.R.L.   \n",
       "2   JOHNSON & JOHNSON - SOCIETA PER AZIONI   \n",
       "3                 TECNOINDUSTRIE MERLO SPA   \n",
       "4  COGEI COSTRUZIONI SRL - IN LIQUIDAZIONE   \n",
       "\n",
       "                                 tipo_aggiudicatario  \n",
       "0  IMPRESA SINGOLA (IMPRENDITORI INDIVIDUALI, ANC...  \n",
       "1  IMPRESA SINGOLA (IMPRENDITORI INDIVIDUALI, ANC...  \n",
       "2  IMPRESA SINGOLA (IMPRENDITORI INDIVIDUALI, ANC...  \n",
       "3  IMPRESA SINGOLA (IMPRENDITORI INDIVIDUALI, ANC...  \n",
       "4  IMPRESA SINGOLA (IMPRENDITORI INDIVIDUALI, ANC...  "
      ],
      "text/html": "<div>\n<style scoped>\n    .dataframe tbody tr th:only-of-type {\n        vertical-align: middle;\n    }\n\n    .dataframe tbody tr th {\n        vertical-align: top;\n    }\n\n    .dataframe thead th {\n        text-align: right;\n    }\n</style>\n<table border=\"1\" class=\"dataframe\">\n  <thead>\n    <tr style=\"text-align: right;\">\n      <th></th>\n      <th>cig</th>\n      <th>numero_gara</th>\n      <th>importo_complessivo_gara</th>\n      <th>n_lotti_componenti</th>\n      <th>importo_lotto</th>\n      <th>settore</th>\n      <th>data_pubblicazione</th>\n      <th>tipo_scelta_contraente</th>\n      <th>modalita_realizzazione</th>\n      <th>denominazione_amministrazione_appaltante</th>\n      <th>sezione_regionale</th>\n      <th>descrizione_cpv</th>\n      <th>aggiudicatario</th>\n      <th>tipo_aggiudicatario</th>\n    </tr>\n  </thead>\n  <tbody>\n    <tr>\n      <th>0</th>\n      <td>43786532C3</td>\n      <td>4334605</td>\n      <td>273971.0</td>\n      <td>1.0</td>\n      <td>273971.0</td>\n      <td>SETTORI SPECIALI</td>\n      <td>2007-01-02</td>\n      <td>AFFIDAMENTO DIRETTO</td>\n      <td>CONTRATTO D'APPALTO</td>\n      <td>ACEA ATO 5 S.P.A.</td>\n      <td>SEZIONE REGIONALE LAZIO</td>\n      <td>LAVORI DI COSTRUZIONE PER OPERE IDRAULICHE.</td>\n      <td>WALTER FREZZA COSTRUZIONI SRL</td>\n      <td>IMPRESA SINGOLA (IMPRENDITORI INDIVIDUALI, ANC...</td>\n    </tr>\n    <tr>\n      <th>1</th>\n      <td>326325398E</td>\n      <td>3283009</td>\n      <td>1680000.0</td>\n      <td>8.0</td>\n      <td>130000.0</td>\n      <td>SETTORI ORDINARI</td>\n      <td>2007-01-10</td>\n      <td>PROCEDURA APERTA</td>\n      <td>CONTRATTO DAPPALTO</td>\n      <td>ASL TARANTO</td>\n      <td>SEZIONE REGIONALE PUGLIA</td>\n      <td>SISTEMA DI DIAGNOSI RADIOLOGICA.</td>\n      <td>SISMED S.R.L.</td>\n      <td>IMPRESA SINGOLA (IMPRENDITORI INDIVIDUALI, ANC...</td>\n    </tr>\n    <tr>\n      <th>2</th>\n      <td>32173300B5</td>\n      <td>3237166</td>\n      <td>60000.0</td>\n      <td>1.0</td>\n      <td>60000.0</td>\n      <td>SETTORI ORDINARI</td>\n      <td>2007-01-26</td>\n      <td>PROCEDURA NEGOZIATA SENZA PREVIA PUBBLICAZIONE</td>\n      <td>CONTRATTO DAPPALTO</td>\n      <td>AZIENDA ULSS N. 3 SERENISSIMA</td>\n      <td>SEZIONE REGIONALE VENETO</td>\n      <td>PRESIDI MEDICO-SANITARI VARI.</td>\n      <td>JOHNSON &amp; JOHNSON - SOCIETA PER AZIONI</td>\n      <td>IMPRESA SINGOLA (IMPRENDITORI INDIVIDUALI, ANC...</td>\n    </tr>\n    <tr>\n      <th>3</th>\n      <td>270171990A</td>\n      <td>2759518</td>\n      <td>900000.0</td>\n      <td>5.0</td>\n      <td>220000.0</td>\n      <td>SETTORI ORDINARI</td>\n      <td>2007-01-24</td>\n      <td>PROCEDURA RISTRETTA</td>\n      <td>CONTRATTO D'APPALTO</td>\n      <td>CONSER V.C.O. SPA</td>\n      <td>SEZIONE REGIONALE PIEMONTE</td>\n      <td>AUTOVEICOLI PER LA RACCOLTA DI RIFIUTI CON COM...</td>\n      <td>TECNOINDUSTRIE MERLO SPA</td>\n      <td>IMPRESA SINGOLA (IMPRENDITORI INDIVIDUALI, ANC...</td>\n    </tr>\n    <tr>\n      <th>4</th>\n      <td>0941878E4C</td>\n      <td>979021</td>\n      <td>56160.0</td>\n      <td>1.0</td>\n      <td>56160.0</td>\n      <td>SETTORI ORDINARI</td>\n      <td>2007-01-09</td>\n      <td>AFFIDAMENTO IN ECONOMIA - COTTIMO FIDUCIARIO</td>\n      <td>ACQUISIZIONE IN ECONOMIA</td>\n      <td>MINISTERO DELLE INFRASTRUTTURE E DEI TRASPORTI...</td>\n      <td>SEZIONE REGIONALE CENTRALE</td>\n      <td>RIPARAZIONE E MANUTENZIONE DI IMPIANTI.</td>\n      <td>COGEI COSTRUZIONI SRL - IN LIQUIDAZIONE</td>\n      <td>IMPRESA SINGOLA (IMPRENDITORI INDIVIDUALI, ANC...</td>\n    </tr>\n  </tbody>\n</table>\n</div>"
     },
     "metadata": {},
     "execution_count": 9
    }
   ],
   "source": [
    "df = pd.read_csv(\"../application/datasets/clean_data/full_dataset.csv\", sep=\";\")\n",
    "\n",
    "df.head()"
   ]
  },
  {
   "source": [
    "### Connect to the db\n",
    "\n",
    "We also set `autocommit = True` and create a cursor. "
   ],
   "cell_type": "markdown",
   "metadata": {}
  },
  {
   "cell_type": "code",
   "execution_count": 15,
   "metadata": {},
   "outputs": [
    {
     "output_type": "stream",
     "name": "stdout",
     "text": [
      "DB operations completed\n"
     ]
    }
   ],
   "source": [
    "db_name = \"db_bdt_project\"\n",
    "\n",
    "connection = mysql.connector.connect(\n",
    "    host = \"127.0.0.1\",\n",
    "    port = 3306,\n",
    "    database = db_name,\n",
    "    user = \"root\",\n",
    "    password = \"dany1998\"\n",
    ")\n",
    "\n",
    "connection.autocommit = True\n",
    "cursor = connection.cursor()\n",
    "\n",
    "print(\"DB operations completed\")"
   ]
  },
  {
   "source": [
    "### Insert data in the db"
   ],
   "cell_type": "markdown",
   "metadata": {}
  },
  {
   "cell_type": "code",
   "execution_count": 16,
   "metadata": {},
   "outputs": [],
   "source": [
    "# Inserting into the db\n",
    "query = \"INSERT into appalti_aggiudicatori_custom (cig, numero_gara, importo_complessivo_gara, n_lotti_componenti, importo_lotto, settore, data_pubblicazione, tipo_scelta_contraente, modalita_realizzazione, denominazione_amministrazione_appaltante, sezione_regionale, descrizione_cpv, aggiudicatore, tipo_aggiudicatore) VALUES (%s, %s, %s, %s, %s, %s, %s, %s, %s, %s, %s, %s, %s, %s)\""
   ]
  },
  {
   "cell_type": "code",
   "execution_count": null,
   "metadata": {},
   "outputs": [],
   "source": [
    "for i, row in tqdm(df.iterrows(), desc=\">> Adding rows to MySQL DB\"):\n",
    "    try:\n",
    "        cursor.execute(query, (row[\"cig\"], row[\"numero_gara\"], row[\"importo_complessivo_gara\"], row[\"n_lotti_componenti\"], row[\"importo_lotto\"], row[\"settore\"], row[\"data_pubblicazione\"], row[\"tipo_scelta_contraente\"], row[\"modalita_realizzazione\"], row[\"denominazione_amministrazione_appaltante\"], row[\"sezione_regionale\"], row[\"descrizione_cpv\"], row[\"aggiudicatore\"], row[\"tipo_aggiudicatore\"]))\n",
    "    except:\n",
    "        #print(\"An error occurred!\")"
   ]
  },
  {
   "cell_type": "code",
   "execution_count": 25,
   "metadata": {},
   "outputs": [
    {
     "output_type": "error",
     "ename": "AttributeError",
     "evalue": "'str' object has no attribute 'close'",
     "traceback": [
      "\u001b[1;31m---------------------------------------------------------------------------\u001b[0m",
      "\u001b[1;31mAttributeError\u001b[0m                            Traceback (most recent call last)",
      "\u001b[1;32m<ipython-input-25-9162a7eff301>\u001b[0m in \u001b[0;36m<module>\u001b[1;34m\u001b[0m\n\u001b[1;32m----> 1\u001b[1;33m \u001b[0mcursor\u001b[0m\u001b[1;33m.\u001b[0m\u001b[0mclose\u001b[0m\u001b[1;33m(\u001b[0m\u001b[1;33m)\u001b[0m\u001b[1;33m\u001b[0m\u001b[1;33m\u001b[0m\u001b[0m\n\u001b[0m\u001b[0;32m      2\u001b[0m \u001b[0mconnection\u001b[0m\u001b[1;33m.\u001b[0m\u001b[0mclose\u001b[0m\u001b[1;33m(\u001b[0m\u001b[1;33m)\u001b[0m\u001b[1;33m\u001b[0m\u001b[1;33m\u001b[0m\u001b[0m\n",
      "\u001b[1;31mAttributeError\u001b[0m: 'str' object has no attribute 'close'"
     ]
    }
   ],
   "source": [
    "cursor.close()\n",
    "connection.close()"
   ]
  }
 ]
}