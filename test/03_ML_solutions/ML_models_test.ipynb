{
 "metadata": {
  "language_info": {
   "codemirror_mode": {
    "name": "ipython",
    "version": 3
   },
   "file_extension": ".py",
   "mimetype": "text/x-python",
   "name": "python",
   "nbconvert_exporter": "python",
   "pygments_lexer": "ipython3",
   "version": "3.9.2"
  },
  "orig_nbformat": 2,
  "kernelspec": {
   "name": "python392jvsc74a57bd09b4d0864ee092708f16b2542940b1fbc0b0becef5f5c7f918ecc5aefd1393b23",
   "display_name": "Python 3.9.2 64-bit ('BDT_2021': conda)"
  }
 },
 "nbformat": 4,
 "nbformat_minor": 2,
 "cells": [
  {
   "source": [
    "# ML tests - KNN"
   ],
   "cell_type": "markdown",
   "metadata": {}
  },
  {
   "source": [
    "## Libraries"
   ],
   "cell_type": "markdown",
   "metadata": {}
  },
  {
   "cell_type": "code",
   "execution_count": 1,
   "metadata": {},
   "outputs": [
    {
     "output_type": "stream",
     "name": "stdout",
     "text": [
      "Libraries Imported\n"
     ]
    }
   ],
   "source": [
    "# necessary to import other modules\n",
    "import sys\n",
    "sys.path.append('../../application')\n",
    "\n",
    "from functions.machine_learning_model import *\n",
    "\n",
    "import pandas as pd\n",
    "import numpy as np\n",
    "import pickle\n",
    "from tqdm import tqdm\n",
    "\n",
    "from sklearn.neighbors import KNeighborsClassifier\n",
    "\n",
    "print(\"Libraries Imported\")"
   ]
  },
  {
   "source": [
    "## Get the appalti_aggiudicatari dataset"
   ],
   "cell_type": "markdown",
   "metadata": {}
  },
  {
   "cell_type": "code",
   "execution_count": 2,
   "metadata": {},
   "outputs": [
    {
     "output_type": "stream",
     "name": "stdout",
     "text": [
      "\nTotal rows: 1514852\nTotal cols: 14\n"
     ]
    }
   ],
   "source": [
    "df = pd.read_csv(\"../../application/datasets/clean_data/appalti_aggiudicatari.csv\", sep=\";\")\n",
    "print(\"\\nTotal rows:\", df.shape[0])\n",
    "print(\"Total cols:\", df.shape[1])"
   ]
  },
  {
   "cell_type": "code",
   "execution_count": 3,
   "metadata": {},
   "outputs": [],
   "source": [
    "# ensure the data type for data_pubblicazione is correct\n",
    "df['data_pubblicazione'] = pd.to_datetime(df['data_pubblicazione'])  "
   ]
  },
  {
   "source": [
    "## Training and Test set\n",
    "\n",
    "- *Training*: all months except the last one\n",
    "- *Test*: the last month"
   ],
   "cell_type": "markdown",
   "metadata": {}
  },
  {
   "cell_type": "code",
   "execution_count": 4,
   "metadata": {},
   "outputs": [
    {
     "output_type": "stream",
     "name": "stdout",
     "text": [
      "\nTotal rows for training: 1507675\n"
     ]
    }
   ],
   "source": [
    "# select the first 11 month of 2020\n",
    "start_date = \"2000-01-01\"\n",
    "end_date = \"2020-11-30\"\n",
    "mask = (df['data_pubblicazione'] >= start_date) & (df['data_pubblicazione'] <= end_date)\n",
    "\n",
    "training_df = df.loc[mask]\n",
    "training_df = training_df.reset_index()\n",
    "training_df = training_df.drop([\"index\"], axis=1)\n",
    "print(\"\\nTotal rows for training:\", training_df.shape[0])"
   ]
  },
  {
   "cell_type": "code",
   "execution_count": 5,
   "metadata": {},
   "outputs": [
    {
     "output_type": "stream",
     "name": "stdout",
     "text": [
      "\nTotal rows for testing: 7177\n"
     ]
    }
   ],
   "source": [
    "# select the December 2020 (to use as test)\n",
    "start_date = \"2020-12-01\"\n",
    "end_date = \"2020-12-31\"\n",
    "mask = (df['data_pubblicazione'] >= start_date) & (df['data_pubblicazione'] <= end_date)\n",
    "\n",
    "test_df = df.loc[mask]\n",
    "test_df = test_df.reset_index()\n",
    "test_df = test_df.drop([\"index\"], axis=1)\n",
    "print(\"\\nTotal rows for testing:\", test_df.shape[0])"
   ]
  },
  {
   "source": [
    "---\n",
    "\n",
    "## K Neighbors Classifier"
   ],
   "cell_type": "markdown",
   "metadata": {}
  },
  {
   "cell_type": "code",
   "execution_count": 6,
   "metadata": {},
   "outputs": [
    {
     "output_type": "stream",
     "name": "stdout",
     "text": [
      "> Model created, related information saved on disk.\n"
     ]
    }
   ],
   "source": [
    "# Train the model\n",
    "KNeighborsClassifier_model, KNeighborsClassifier_encoder = create_KNeighborsClassifier(training_df, K=100)"
   ]
  },
  {
   "cell_type": "code",
   "execution_count": 7,
   "metadata": {},
   "outputs": [],
   "source": [
    "# Test the model (on December 2020)\n",
    "#r_sq = test_model(KNeighborsClassifier_model, KNeighborsClassifier_encoder, test_df)\n",
    "#print(\"R_squared:\", r_sq)"
   ]
  },
  {
   "cell_type": "code",
   "execution_count": 8,
   "metadata": {},
   "outputs": [
    {
     "output_type": "stream",
     "name": "stdout",
     "text": [
      "1 PHILIPS\n2 BT ENIA TELECOMUNICAZIONI SPA\n3 ITALWARE S.R.L.\n4 ITALWARE S.R.L.\n5 ITALWARE S.R.L.\n"
     ]
    }
   ],
   "source": [
    "# Results of kneighbors\n",
    "print(\"1\", training_df.loc[[311707]][\"aggiudicatario\"].values[0])\n",
    "print(\"2\", training_df.loc[[857119]][\"aggiudicatario\"].values[0])\n",
    "print(\"3\", training_df.loc[[1049601]][\"aggiudicatario\"].values[0])\n",
    "print(\"4\", training_df.loc[[1049600]][\"aggiudicatario\"].values[0])\n",
    "print(\"5\", training_df.loc[[1285461]][\"aggiudicatario\"].values[0])"
   ]
  },
  {
   "source": [
    "---\n",
    "\n",
    "## Random Forest Classifier\n",
    "\n",
    "The model requires too much memory."
   ],
   "cell_type": "markdown",
   "metadata": {}
  },
  {
   "cell_type": "code",
   "execution_count": 9,
   "metadata": {},
   "outputs": [],
   "source": [
    "# Train the model\n",
    "# RandomForestClassifier_model, RandomForestClassifier_encoder = create_RandomForestClassifier(training_df)"
   ]
  },
  {
   "source": [
    "---\n",
    "\n",
    "## MLP Classifier\n",
    "\n",
    "The model requires too much memory."
   ],
   "cell_type": "markdown",
   "metadata": {}
  },
  {
   "cell_type": "code",
   "execution_count": 11,
   "metadata": {},
   "outputs": [],
   "source": [
    "# Train the model\n",
    "#MLPClassifier_model, MLPClassifier_encoder = create_MLPClassifier(training_df)"
   ]
  },
  {
   "cell_type": "code",
   "execution_count": null,
   "metadata": {},
   "outputs": [],
   "source": [
    "# Test the model (on December 2020)\n",
    "#r_sq = test_model(MLPClassifier_model, MLPClassifier_encoder, test_df)\n",
    "#print(\"R_squared:\", r_sq)"
   ]
  }
 ]
}