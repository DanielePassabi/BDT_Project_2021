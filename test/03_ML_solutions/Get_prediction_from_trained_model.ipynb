{
 "metadata": {
  "language_info": {
   "codemirror_mode": {
    "name": "ipython",
    "version": 3
   },
   "file_extension": ".py",
   "mimetype": "text/x-python",
   "name": "python",
   "nbconvert_exporter": "python",
   "pygments_lexer": "ipython3",
   "version": "3.9.2"
  },
  "orig_nbformat": 2,
  "kernelspec": {
   "name": "python392jvsc74a57bd09b4d0864ee092708f16b2542940b1fbc0b0becef5f5c7f918ecc5aefd1393b23",
   "display_name": "Python 3.9.2 64-bit ('BDT_2021': conda)"
  }
 },
 "nbformat": 4,
 "nbformat_minor": 2,
 "cells": [
  {
   "source": [
    "# ML tests - Get prediction"
   ],
   "cell_type": "markdown",
   "metadata": {}
  },
  {
   "source": [
    "## Libraries"
   ],
   "cell_type": "markdown",
   "metadata": {}
  },
  {
   "cell_type": "code",
   "execution_count": 1,
   "metadata": {},
   "outputs": [
    {
     "output_type": "stream",
     "name": "stdout",
     "text": [
      "Libraries Imported\n"
     ]
    }
   ],
   "source": [
    "# necessary to import other modules\n",
    "import sys\n",
    "sys.path.append('../../application')\n",
    "\n",
    "from functions.machine_learning_model import *\n",
    "\n",
    "import pandas as pd\n",
    "import numpy as np\n",
    "import pickle\n",
    "from tqdm import tqdm\n",
    "\n",
    "from sklearn.neighbors import KNeighborsClassifier\n",
    "\n",
    "print(\"Libraries Imported\")"
   ]
  },
  {
   "source": [
    "## Get the models"
   ],
   "cell_type": "markdown",
   "metadata": {}
  },
  {
   "source": [
    "### Get the KNeighborsClassifier trained model (and the encoder)"
   ],
   "cell_type": "markdown",
   "metadata": {}
  },
  {
   "cell_type": "code",
   "execution_count": 2,
   "metadata": {},
   "outputs": [],
   "source": [
    "model_path = \"models_data/KNeighborsClassifier_model.sav\"\n",
    "encod_path = \"models_data/KNeighborsClassifier_encoder.sav\"\n",
    "\n",
    "KNeighborsClassifier_model = pickle.load(open(model_path, 'rb'))\n",
    "KNeighborsClassifier_encoder = pickle.load(open(encod_path, 'rb'))"
   ]
  },
  {
   "source": [
    "### Get the NearestNeighbors trained model (and the encoder)"
   ],
   "cell_type": "markdown",
   "metadata": {}
  },
  {
   "cell_type": "code",
   "execution_count": 3,
   "metadata": {},
   "outputs": [],
   "source": [
    "model_path = \"models_data/NearestNeighbors_model.sav\"\n",
    "encod_path = \"models_data/NearestNeighbors_encoder.sav\"\n",
    "\n",
    "NearestNeighbors_model = pickle.load(open(model_path, 'rb'))\n",
    "NearestNeighbors_encoder = pickle.load(open(encod_path, 'rb'))"
   ]
  },
  {
   "source": [
    "## Set the prediction information"
   ],
   "cell_type": "markdown",
   "metadata": {}
  },
  {
   "cell_type": "code",
   "execution_count": 4,
   "metadata": {},
   "outputs": [],
   "source": [
    "importo_complessivo_gara = 500000\n",
    "n_lotti_componenti = 3\n",
    "importo_lotto = 100000\n",
    "settore = \"SETTORI ORDINARI\"\n",
    "tipo_scelta_contraente = \"SISTEMA DINAMICO DI ACQUISIZIONE\"\n",
    "modalita_realizzazione = \"CONVENZIONE\"\n",
    "denominazione_amministrazione_appaltante = \"CITTA METROPOLITANA DI CATANIA\"\n",
    "sezione_regionale = \"SEZIONE REGIONALE CENTRALE\"\n",
    "descrizione_cpv = \"LAVORI EDILI\"\n",
    "tipo_aggiudicatari = \"IMPRESA SINGOLA (IMPRENDITORI INDIVIDUALI, ANCHE ARTIGIANI, SOCIETA COMMERCIALI, SOCIETA COOPERATIVE)\"\n",
    "\n",
    "input_data = [importo_complessivo_gara, n_lotti_componenti, importo_lotto, settore, tipo_scelta_contraente, modalita_realizzazione, denominazione_amministrazione_appaltante, sezione_regionale, descrizione_cpv, tipo_aggiudicatari]"
   ]
  },
  {
   "source": [
    "## Compute the prediction"
   ],
   "cell_type": "markdown",
   "metadata": {}
  },
  {
   "source": [
    "### KNeighborsClassifier"
   ],
   "cell_type": "markdown",
   "metadata": {}
  },
  {
   "cell_type": "code",
   "execution_count": 5,
   "metadata": {},
   "outputs": [
    {
     "output_type": "stream",
     "name": "stdout",
     "text": [
      "Prediction: ITALWARE S.R.L.\n"
     ]
    }
   ],
   "source": [
    "pred = get_pred(KNeighborsClassifier_model, KNeighborsClassifier_encoder, input_data)\n",
    "print(\"Prediction:\", pred)"
   ]
  },
  {
   "cell_type": "code",
   "execution_count": 6,
   "metadata": {},
   "outputs": [
    {
     "output_type": "stream",
     "name": "stdout",
     "text": [
      "Distances: [[2.82842712 3.16227766 3.16227766 3.16227766 3.16227766]]\nIndices: [[ 311707  857119 1049601 1049600 1285461]]\n"
     ]
    }
   ],
   "source": [
    "distances, indices = get_n_pred_KNeighborsClassifier(KNeighborsClassifier_model, KNeighborsClassifier_encoder, input_data, 5)\n",
    "\n",
    "print(\"Distances:\", distances)\n",
    "print(\"Indices:\", indices)"
   ]
  }
 ]
}