{
 "metadata": {
  "language_info": {
   "codemirror_mode": {
    "name": "ipython",
    "version": 3
   },
   "file_extension": ".py",
   "mimetype": "text/x-python",
   "name": "python",
   "nbconvert_exporter": "python",
   "pygments_lexer": "ipython3",
   "version": "3.9.2"
  },
  "orig_nbformat": 2,
  "kernelspec": {
   "name": "python392jvsc74a57bd09b4d0864ee092708f16b2542940b1fbc0b0becef5f5c7f918ecc5aefd1393b23",
   "display_name": "Python 3.9.2 64-bit ('BDT_2021': conda)"
  }
 },
 "nbformat": 4,
 "nbformat_minor": 2,
 "cells": [
  {
   "source": [
    "# ML tests - Neural Network"
   ],
   "cell_type": "markdown",
   "metadata": {}
  },
  {
   "source": [
    "## Libraries"
   ],
   "cell_type": "markdown",
   "metadata": {}
  },
  {
   "cell_type": "code",
   "execution_count": 1,
   "metadata": {},
   "outputs": [
    {
     "output_type": "stream",
     "name": "stdout",
     "text": [
      "Libraries Imported\n"
     ]
    }
   ],
   "source": [
    "# necessary to import other modules\n",
    "import sys\n",
    "sys.path.append('../../application')\n",
    "\n",
    "from functions.machine_learning_model import *\n",
    "\n",
    "import pandas as pd\n",
    "import numpy as np\n",
    "from tqdm import tqdm\n",
    "\n",
    "from sklearn.neural_network import MLPClassifier\n",
    "\n",
    "print(\"Libraries Imported\")"
   ]
  },
  {
   "source": [
    "## Get the appalti_aggiudicatari dataset"
   ],
   "cell_type": "markdown",
   "metadata": {}
  },
  {
   "cell_type": "code",
   "execution_count": 2,
   "metadata": {},
   "outputs": [
    {
     "output_type": "stream",
     "name": "stdout",
     "text": [
      "\nTotal rows: 1514852\nTotal cols: 95\n"
     ]
    }
   ],
   "source": [
    "df = pd.read_csv(\"appalti_aggiudicatari_dummified.csv\", sep=\";\")\n",
    "print(\"\\nTotal rows:\", df.shape[0])\n",
    "print(\"Total cols:\", df.shape[1])"
   ]
  },
  {
   "cell_type": "code",
   "execution_count": 3,
   "metadata": {},
   "outputs": [],
   "source": [
    "# ensure the data type for data_pubblicazione is correct\n",
    "df['data_pubblicazione'] = pd.to_datetime(df['data_pubblicazione'])  "
   ]
  },
  {
   "source": [
    "## Training and Test set\n",
    "\n",
    "- *Training*: all months except the last one\n",
    "- *Test*: the last month"
   ],
   "cell_type": "markdown",
   "metadata": {}
  },
  {
   "cell_type": "code",
   "execution_count": 4,
   "metadata": {},
   "outputs": [
    {
     "output_type": "stream",
     "name": "stdout",
     "text": [
      "\nTotal rows for training: 18316\n"
     ]
    }
   ],
   "source": [
    "# select the first 11 month of 2020\n",
    "start_date = \"2020-10-01\"\n",
    "end_date = \"2020-11-30\"\n",
    "mask = (df['data_pubblicazione'] >= start_date) & (df['data_pubblicazione'] <= end_date)\n",
    "\n",
    "training_df = df.loc[mask]\n",
    "training_df = training_df.reset_index()\n",
    "print(\"\\nTotal rows for training:\", training_df.shape[0])"
   ]
  },
  {
   "cell_type": "code",
   "execution_count": 5,
   "metadata": {},
   "outputs": [
    {
     "output_type": "stream",
     "name": "stdout",
     "text": [
      "\nTotal rows for testing: 7177\n"
     ]
    }
   ],
   "source": [
    "# select the December 2020 (to use as test)\n",
    "start_date = \"2020-12-01\"\n",
    "end_date = \"2020-12-31\"\n",
    "mask = (df['data_pubblicazione'] >= start_date) & (df['data_pubblicazione'] <= end_date)\n",
    "\n",
    "test_df = df.loc[mask]\n",
    "test_df = test_df.reset_index()\n",
    "print(\"\\nTotal rows for testing:\", test_df.shape[0])"
   ]
  },
  {
   "source": [
    "## Neural Network"
   ],
   "cell_type": "markdown",
   "metadata": {}
  },
  {
   "cell_type": "code",
   "execution_count": 6,
   "metadata": {},
   "outputs": [
    {
     "output_type": "stream",
     "name": "stderr",
     "text": [
      "Preparing data for KNN: 100%|██████████| 18316/18316 [00:06<00:00, 2970.48it/s]\n",
      "\n",
      " [[1489359, 70000.0, 1.0, 70000.0, 1, 0, 0, 0, 0, 0, 0, 0, 0, 0, 0, 0, 0, 0, 0, 0, 0, 0, 0, 0, 0, 1, 0, 0, 0, 0, 0, 0, 0, 0, 0, 0, 0, 0, 0, 0, 0, 0, 0, 0, 0, 1, 0, 0, 0, 0, 0, 0, 0, 0, 0, 0, 0, 0, 0, 0, 0, 0, 0, 0, 0, 0, 1, 0, 0, 0, 0, 0, 0, 0, 0, 0, 0, 0, 0, 0, 0, 0, 0, 0, 0, 0, 0, 0, 1, 0], [1489360, 13000000.0, 1.0, 13000000.0, 0, 0, 0, 0, 0, 0, 1, 0, 0, 0, 0, 0, 0, 0, 0, 0, 0, 0, 0, 0, 0, 0, 0, 0, 0, 0, 0, 0, 0, 0, 0, 0, 0, 0, 0, 0, 0, 0, 0, 0, 1, 0, 0, 0, 0, 0, 0, 0, 0, 0, 0, 0, 0, 0, 0, 0, 0, 0, 0, 0, 0, 0, 0, 0, 0, 0, 0, 0, 0, 0, 1, 0, 0, 0, 0, 0, 0, 0, 0, 0, 0, 0, 0, 0, 0, 1]]\n",
      "\n",
      " ['ENDRESS + HAUSER ITALIA SPA', 'MSD ITALIA S.R.L.']\n",
      "\n"
     ]
    }
   ],
   "source": [
    "# Prepare the training input\n",
    "tr_input = prepareInputForClassifier(training_df)\n",
    "\n",
    "print(\"\\n\\n\", tr_input[0][0:2])\n",
    "print(\"\\n\", tr_input[1][0:2])"
   ]
  },
  {
   "cell_type": "code",
   "execution_count": 7,
   "metadata": {},
   "outputs": [
    {
     "output_type": "stream",
     "name": "stderr",
     "text": [
      "D:\\Anaconda\\envs\\BDT_2021\\lib\\site-packages\\sklearn\\neural_network\\_multilayer_perceptron.py:619: UserWarning: Training interrupted by user.\n  warnings.warn(\"Training interrupted by user.\")\n"
     ]
    },
    {
     "output_type": "execute_result",
     "data": {
      "text/plain": [
       "MLPClassifier()"
      ]
     },
     "metadata": {},
     "execution_count": 7
    }
   ],
   "source": [
    "# Create and fit the classifier\n",
    "snn_classifier = MLPClassifier()\n",
    "snn_classifier.fit(tr_input[0], tr_input[1])"
   ]
  },
  {
   "source": [
    "#### Evaluate the model\n",
    "\n",
    "- with the score function of the library\n",
    "- measuring by hand the total matches"
   ],
   "cell_type": "markdown",
   "metadata": {}
  },
  {
   "cell_type": "code",
   "execution_count": null,
   "metadata": {},
   "outputs": [],
   "source": [
    "# Prepare the test input\n",
    "ts_input = prepareInputForClassifier(test_df)\n",
    "true_output = ts_input[1]\n",
    "pred_output = knn_classifier.predict(ts_input[0])"
   ]
  },
  {
   "cell_type": "code",
   "execution_count": null,
   "metadata": {},
   "outputs": [],
   "source": [
    "# Compute the predictions\n",
    "snn_predictions = snn_classifier.predict(ts_input[0])"
   ]
  },
  {
   "cell_type": "code",
   "execution_count": null,
   "metadata": {},
   "outputs": [],
   "source": [
    "# Get R^2\n",
    "snn_classifier.score(ts_input[0], ts_input[1], sample_weight=None)"
   ]
  },
  {
   "cell_type": "code",
   "execution_count": null,
   "metadata": {},
   "outputs": [],
   "source": [
    "# Manually compute the total matches\n",
    "matches = 0\n",
    "total = len(snn_predictions)\n",
    "for i in range(total):\n",
    "    if true_output[i] == snn_predictions[i]:\n",
    "        matches = matches+1\n",
    "\n",
    "print(\"Matches:\", matches)\n",
    "print(\"Total:\",total)"
   ]
  }
 ]
}