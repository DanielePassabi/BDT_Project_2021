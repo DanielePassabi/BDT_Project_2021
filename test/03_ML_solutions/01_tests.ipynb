{
 "metadata": {
  "language_info": {
   "codemirror_mode": {
    "name": "ipython",
    "version": 3
   },
   "file_extension": ".py",
   "mimetype": "text/x-python",
   "name": "python",
   "nbconvert_exporter": "python",
   "pygments_lexer": "ipython3",
   "version": "3.9.2"
  },
  "orig_nbformat": 2,
  "kernelspec": {
   "name": "python392jvsc74a57bd09b4d0864ee092708f16b2542940b1fbc0b0becef5f5c7f918ecc5aefd1393b23",
   "display_name": "Python 3.9.2 64-bit ('BDT_2021': conda)"
  }
 },
 "nbformat": 4,
 "nbformat_minor": 2,
 "cells": [
  {
   "source": [
    "# ML tests"
   ],
   "cell_type": "markdown",
   "metadata": {}
  },
  {
   "source": [
    "### Libraries"
   ],
   "cell_type": "markdown",
   "metadata": {}
  },
  {
   "cell_type": "code",
   "execution_count": 250,
   "metadata": {},
   "outputs": [
    {
     "output_type": "stream",
     "name": "stdout",
     "text": [
      "Libraries Imported\n"
     ]
    }
   ],
   "source": [
    "# necessary to import other modules\n",
    "import sys\n",
    "sys.path.append('../../application')\n",
    "\n",
    "from functions.mysql import *\n",
    "from functions.machine_learning_model import *\n",
    "\n",
    "import pandas as pd\n",
    "import numpy as np\n",
    "\n",
    "from sklearn.preprocessing import OneHotEncoder\n",
    "from sklearn.neighbors import KNeighborsClassifier\n",
    "\n",
    "print(\"Libraries Imported\")"
   ]
  },
  {
   "source": [
    "### MySQL Connection"
   ],
   "cell_type": "markdown",
   "metadata": {}
  },
  {
   "cell_type": "code",
   "execution_count": 251,
   "metadata": {},
   "outputs": [],
   "source": [
    "#host = \"127.0.0.1\"\n",
    "#port = 3306\n",
    "#database = \"db_bdt_project\"\n",
    "#user = \"root\"\n",
    "#password = \"dany1998\"\n",
    "#\n",
    "#db_connection = connectToMySQL_Alchemy(host, port, database, user, password, False)"
   ]
  },
  {
   "cell_type": "code",
   "execution_count": 252,
   "metadata": {},
   "outputs": [],
   "source": [
    "#table = \"appalti_aggiudicatari\"\n",
    "#df = retrieveAllDataFromTable_Alchemy(table, db_connection)\n",
    "#\n",
    "#print(df.head())"
   ]
  },
  {
   "cell_type": "code",
   "execution_count": 253,
   "metadata": {},
   "outputs": [],
   "source": [
    "#print(\"\\nTotal rows:\", df.shape[0])"
   ]
  },
  {
   "source": [
    "Which is practically the same as"
   ],
   "cell_type": "markdown",
   "metadata": {}
  },
  {
   "cell_type": "code",
   "execution_count": 254,
   "metadata": {},
   "outputs": [
    {
     "output_type": "stream",
     "name": "stdout",
     "text": [
      "\nTotal rows: 1514852\n"
     ]
    }
   ],
   "source": [
    "df = pd.read_csv(\"../../application/datasets/clean_data/appalti_aggiudicatari.csv\", sep=\";\")\n",
    "print(\"\\nTotal rows:\", df.shape[0])"
   ]
  },
  {
   "source": [
    "### Select a smaller sample for testing"
   ],
   "cell_type": "markdown",
   "metadata": {}
  },
  {
   "cell_type": "code",
   "execution_count": 255,
   "metadata": {},
   "outputs": [],
   "source": [
    "# ensure the data type is correct\n",
    "df['data_pubblicazione'] = pd.to_datetime(df['data_pubblicazione'])  "
   ]
  },
  {
   "cell_type": "code",
   "execution_count": 256,
   "metadata": {},
   "outputs": [
    {
     "output_type": "stream",
     "name": "stdout",
     "text": [
      "\nTotal rows for training: 110972\n"
     ]
    }
   ],
   "source": [
    "# select the first 11 month of 2020\n",
    "start_date = \"2020-01-01\"\n",
    "end_date = \"2020-11-30\"\n",
    "mask = (df['data_pubblicazione'] >= start_date) & (df['data_pubblicazione'] <= end_date)\n",
    "\n",
    "training_df = df.loc[mask]\n",
    "training_df = training_df.reset_index()\n",
    "print(\"\\nTotal rows for training:\", training_df.shape[0])"
   ]
  },
  {
   "cell_type": "code",
   "execution_count": 257,
   "metadata": {},
   "outputs": [
    {
     "output_type": "stream",
     "name": "stdout",
     "text": [
      "\nTotal rows for testing: 7177\n"
     ]
    }
   ],
   "source": [
    "# select the December 2020 (to use as test)\n",
    "start_date = \"2020-12-01\"\n",
    "end_date = \"2020-12-31\"\n",
    "mask = (df['data_pubblicazione'] >= start_date) & (df['data_pubblicazione'] <= end_date)\n",
    "\n",
    "test_df = df.loc[mask]\n",
    "test_df = test_df.reset_index()\n",
    "print(\"\\nTotal rows for testing:\", test_df.shape[0])"
   ]
  },
  {
   "source": [
    "## List of variables we will use\n",
    "\n",
    "### Numeric Variables (no changes needed)\n",
    "- importo_complessivo_gara\n",
    "- n_lotti_componenti\n",
    "- importo_lotto\n",
    "\n",
    "### Categorical Variable (need of dummy data)\n",
    "- settore\n",
    "- tipo_scelta_contraente\n",
    "- modalita_realizzazione\n",
    "- denominazione_amministrazione_appaltante\n",
    "- sezione_regionale\n",
    "- descrizione_cpv\n",
    "- tipo_aggiudicatario"
   ],
   "cell_type": "markdown",
   "metadata": {}
  },
  {
   "cell_type": "code",
   "execution_count": 258,
   "metadata": {},
   "outputs": [],
   "source": [
    "def printColInfo(col):\n",
    "    temp_set = set(col)\n",
    "    print(\"Total factors:\", len(temp_set))\n",
    "    #print(\"Factors:\\n\", temp_set)"
   ]
  },
  {
   "source": [
    "print(\"settore\")\n",
    "printColInfo(df.settore)\n",
    "\n",
    "print(\"\\ntipo_scelta_contraente\")\n",
    "printColInfo(df.tipo_scelta_contraente)\n",
    "\n",
    "print(\"\\nmodalita_realizzazione\")\n",
    "printColInfo(df.modalita_realizzazione)\n",
    "\n",
    "print(\"\\ndenominazione_amministrazione_appaltante\")\n",
    "printColInfo(df.denominazione_amministrazione_appaltante)\n",
    "\n",
    "print(\"\\nsezione_regionale\")\n",
    "printColInfo(df.sezione_regionale)\n",
    "\n",
    "print(\"\\ndescrizione_cpv\")\n",
    "printColInfo(df.descrizione_cpv)\n",
    "\n",
    "print(\"\\ntipo_aggiudicatario\")\n",
    "printColInfo(df.tipo_aggiudicatario)"
   ],
   "cell_type": "code",
   "metadata": {},
   "execution_count": 259,
   "outputs": [
    {
     "output_type": "stream",
     "name": "stdout",
     "text": [
      "settore\n",
      "Total factors: 2\n",
      "\n",
      "tipo_scelta_contraente\n",
      "Total factors: 30\n",
      "\n",
      "modalita_realizzazione\n",
      "Total factors: 23\n",
      "\n",
      "denominazione_amministrazione_appaltante\n",
      "Total factors: 22627\n",
      "\n",
      "sezione_regionale\n",
      "Total factors: 25\n",
      "\n",
      "descrizione_cpv\n",
      "Total factors: 7793\n",
      "\n",
      "tipo_aggiudicatario\n",
      "Total factors: 7\n"
     ]
    }
   ]
  },
  {
   "source": [
    "## Select a model"
   ],
   "cell_type": "markdown",
   "metadata": {}
  },
  {
   "source": [
    "First, we *dummify* the categorical variables"
   ],
   "cell_type": "markdown",
   "metadata": {}
  },
  {
   "cell_type": "code",
   "execution_count": 260,
   "metadata": {},
   "outputs": [],
   "source": [
    "#onehotencoder = pd.get_dummies(training_df['settore'], drop_first=True)\n",
    "#onehotencoder"
   ]
  },
  {
   "cell_type": "code",
   "execution_count": 261,
   "metadata": {},
   "outputs": [],
   "source": [
    "#onehotencoder = pd.get_dummies(training_df['tipo_scelta_contraente'], drop_first=True)\n",
    "#onehotencoder"
   ]
  },
  {
   "cell_type": "code",
   "execution_count": 262,
   "metadata": {},
   "outputs": [],
   "source": [
    "# Drop column non_numeric_col as it is now encoded\n",
    "#X = X.drop('Gender',axis = 1)\n",
    "# Join the encoded dataframe to X\n",
    "#X = X.join(onehotencoder)"
   ]
  },
  {
   "cell_type": "code",
   "execution_count": 263,
   "metadata": {},
   "outputs": [],
   "source": [
    "#test_df"
   ]
  },
  {
   "source": [
    "## KNN Classifier"
   ],
   "cell_type": "markdown",
   "metadata": {}
  },
  {
   "cell_type": "code",
   "execution_count": 264,
   "metadata": {},
   "outputs": [
    {
     "output_type": "execute_result",
     "data": {
      "text/plain": [
       "        level_0    index         cig  numero_gara  importo_complessivo_gara  \\\n",
       "0             0  1396703  8103641819      7599631                 876344.28   \n",
       "1             1  1396704  809634968D      7593971                 140136.00   \n",
       "2             2  1396705  809634968D      7593971                 140136.00   \n",
       "3             3  1396706  81621757E2      7649364                 380000.00   \n",
       "4             4  1396707  8142536944      7633063                 712031.30   \n",
       "...         ...      ...         ...          ...                       ...   \n",
       "110967   110967  1507670  85286619B2      7958292                  60638.48   \n",
       "110968   110968  1507671  8498088C0E      7932065                  44000.00   \n",
       "110969   110969  1507672  8489155053      7924202                  60000.00   \n",
       "110970   110970  1507673  8523381482      7953319                 131903.00   \n",
       "110971   110971  1507674  84565169C2      7896570                  70000.00   \n",
       "\n",
       "        n_lotti_componenti  importo_lotto           settore  \\\n",
       "0                      4.0      220888.00  SETTORI ORDINARI   \n",
       "1                      1.0      140136.00  SETTORI SPECIALI   \n",
       "2                      1.0      140136.00  SETTORI SPECIALI   \n",
       "3                      1.0      380000.00  SETTORI ORDINARI   \n",
       "4                      1.0      712031.30  SETTORI ORDINARI   \n",
       "...                    ...            ...               ...   \n",
       "110967                 1.0       60638.48  SETTORI ORDINARI   \n",
       "110968                 1.0       44000.00  SETTORI SPECIALI   \n",
       "110969                 1.0       60000.00  SETTORI ORDINARI   \n",
       "110970                 1.0      131903.00  SETTORI ORDINARI   \n",
       "110971                 1.0       70000.00  SETTORI ORDINARI   \n",
       "\n",
       "       data_pubblicazione                             tipo_scelta_contraente  \\\n",
       "0              2020-01-27                                   PROCEDURA APERTA   \n",
       "1              2020-01-03  AFFIDAMENTO DIRETTO IN ADESIONE AD ACCORDO QUA...   \n",
       "2              2020-01-03  AFFIDAMENTO DIRETTO IN ADESIONE AD ACCORDO QUA...   \n",
       "3              2020-01-02  AFFIDAMENTO DIRETTO IN ADESIONE AD ACCORDO QUA...   \n",
       "4              2020-01-13     PROCEDURA NEGOZIATA SENZA PREVIA PUBBLICAZIONE   \n",
       "...                   ...                                                ...   \n",
       "110967         2020-11-23                                AFFIDAMENTO DIRETTO   \n",
       "110968         2020-11-20  AFFIDAMENTO DIRETTO IN ADESIONE AD ACCORDO QUA...   \n",
       "110969         2020-11-02     PROCEDURA NEGOZIATA SENZA PREVIA PUBBLICAZIONE   \n",
       "110970         2020-11-30                                   PROCEDURA APERTA   \n",
       "110971         2020-11-17                                AFFIDAMENTO DIRETTO   \n",
       "\n",
       "                                   modalita_realizzazione  \\\n",
       "0                                     CONTRATTO D'APPALTO   \n",
       "1       CONTRATTO D'APPALTO DISCENDENTE DA ACCORDO QUA...   \n",
       "2       CONTRATTO D'APPALTO DISCENDENTE DA ACCORDO QUA...   \n",
       "3       CONTRATTO DAPPALTO DISCENDENTE DA ACCORDO QUAD...   \n",
       "4                                      CONTRATTO DAPPALTO   \n",
       "...                                                   ...   \n",
       "110967                                 CONTRATTO DAPPALTO   \n",
       "110968  CONTRATTO DAPPALTO DISCENDENTE DA ACCORDO QUAD...   \n",
       "110969                                 CONTRATTO DAPPALTO   \n",
       "110970                                 CONTRATTO DAPPALTO   \n",
       "110971                                CONTRATTO D'APPALTO   \n",
       "\n",
       "               denominazione_amministrazione_appaltante  \\\n",
       "0                       CITTA  METROPOLITANA DI CATANIA   \n",
       "1       RETE FERROVIARIA ITALIANA - SOCIETA  PER AZIONI   \n",
       "2       RETE FERROVIARIA ITALIANA - SOCIETA  PER AZIONI   \n",
       "3                  AMMINISTRAZIONE PROVINCIALE DI TERNI   \n",
       "4                         AZIENDA ULSS N. 3 SERENISSIMA   \n",
       "...                                                 ...   \n",
       "110967                     COMUNE DI MONTEROSSO AL MARE   \n",
       "110968  RETE FERROVIARIA ITALIANA - SOCIETA  PER AZIONI   \n",
       "110969    AZIENDA UNITA  SANITARIA LOCALE N. 3 GENOVESE   \n",
       "110970               S.E.A. - SERVIZI E AMBIENTE S.P.A.   \n",
       "110971   ENERGIA TERRITORIO RISORSE AMBIENTALI ETRA SPA   \n",
       "\n",
       "                 sezione_regionale  \\\n",
       "0        SEZIONE REGIONALE SICILIA   \n",
       "1       SEZIONE REGIONALE CENTRALE   \n",
       "2       SEZIONE REGIONALE CENTRALE   \n",
       "3         SEZIONE REGIONALE UMBRIA   \n",
       "4         SEZIONE REGIONALE VENETO   \n",
       "...                            ...   \n",
       "110967   SEZIONE REGIONALE LIGURIA   \n",
       "110968  SEZIONE REGIONALE CENTRALE   \n",
       "110969   SEZIONE REGIONALE LIGURIA   \n",
       "110970    SEZIONE REGIONALE MOLISE   \n",
       "110971    SEZIONE REGIONALE VENETO   \n",
       "\n",
       "                                          descrizione_cpv  \\\n",
       "0                 SERVIZI DI ISPEZIONE TECNICA DI EDIFICI   \n",
       "1       INSTALLAZIONE DI DISPOSITIVI DI TELECOMUNICAZIONE   \n",
       "2       INSTALLAZIONE DI DISPOSITIVI DI TELECOMUNICAZIONE   \n",
       "3                                             ELETTRICITÀ   \n",
       "4       SERVIZI DI MANUTENZIONE DI SISTEMI E DI ASSIST...   \n",
       "...                                                   ...   \n",
       "110967                    SERVIZI DI INGEGNERIA INTEGRATI   \n",
       "110968  RIPARAZIONE, MANUTENZIONE E SERVIZI AFFINI CON...   \n",
       "110969                 DISPOSITIVI E PRODOTTI MEDICI VARI   \n",
       "110970  GESTIONE DEL PARCO MACCHINE, SERVIZI DI RIPARA...   \n",
       "110971                                              FERRO   \n",
       "\n",
       "                              aggiudicatario  \\\n",
       "0                               A.T.I. SLURP   \n",
       "1       GENERALE COSTRUZIONI FERROVIARIE SPA   \n",
       "2                             VALTELLINA SPA   \n",
       "3                            A2A ENERGIA SPA   \n",
       "4                                    DEDALUS   \n",
       "...                                      ...   \n",
       "110967                          OPPO VALERIO   \n",
       "110968                               ECM SPA   \n",
       "110969                                 DIMAR   \n",
       "110970              AUTORIPARAZIONI VIMA SAS   \n",
       "110971                   VITI E UTENSILI SRL   \n",
       "\n",
       "                                      tipo_aggiudicatario  \n",
       "0       IMPRESA SINGOLA (IMPRENDITORI INDIVIDUALI, ANC...  \n",
       "1       ATI (RAGGRUPPAMENTI TEMPORANEI DI CONCORRENTI:...  \n",
       "2       ATI (RAGGRUPPAMENTI TEMPORANEI DI CONCORRENTI:...  \n",
       "3       IMPRESA SINGOLA (IMPRENDITORI INDIVIDUALI, ANC...  \n",
       "4       IMPRESA SINGOLA (IMPRENDITORI INDIVIDUALI, ANC...  \n",
       "...                                                   ...  \n",
       "110967  ATI (RAGGRUPPAMENTI TEMPORANEI DI CONCORRENTI:...  \n",
       "110968  IMPRESA SINGOLA (IMPRENDITORI INDIVIDUALI, ANC...  \n",
       "110969  IMPRESA SINGOLA (IMPRENDITORI INDIVIDUALI, ANC...  \n",
       "110970  IMPRESA SINGOLA (IMPRENDITORI INDIVIDUALI, ANC...  \n",
       "110971  IMPRESA SINGOLA (IMPRENDITORI INDIVIDUALI, ANC...  \n",
       "\n",
       "[110972 rows x 16 columns]"
      ],
      "text/html": "<div>\n<style scoped>\n    .dataframe tbody tr th:only-of-type {\n        vertical-align: middle;\n    }\n\n    .dataframe tbody tr th {\n        vertical-align: top;\n    }\n\n    .dataframe thead th {\n        text-align: right;\n    }\n</style>\n<table border=\"1\" class=\"dataframe\">\n  <thead>\n    <tr style=\"text-align: right;\">\n      <th></th>\n      <th>level_0</th>\n      <th>index</th>\n      <th>cig</th>\n      <th>numero_gara</th>\n      <th>importo_complessivo_gara</th>\n      <th>n_lotti_componenti</th>\n      <th>importo_lotto</th>\n      <th>settore</th>\n      <th>data_pubblicazione</th>\n      <th>tipo_scelta_contraente</th>\n      <th>modalita_realizzazione</th>\n      <th>denominazione_amministrazione_appaltante</th>\n      <th>sezione_regionale</th>\n      <th>descrizione_cpv</th>\n      <th>aggiudicatario</th>\n      <th>tipo_aggiudicatario</th>\n    </tr>\n  </thead>\n  <tbody>\n    <tr>\n      <th>0</th>\n      <td>0</td>\n      <td>1396703</td>\n      <td>8103641819</td>\n      <td>7599631</td>\n      <td>876344.28</td>\n      <td>4.0</td>\n      <td>220888.00</td>\n      <td>SETTORI ORDINARI</td>\n      <td>2020-01-27</td>\n      <td>PROCEDURA APERTA</td>\n      <td>CONTRATTO D'APPALTO</td>\n      <td>CITTA  METROPOLITANA DI CATANIA</td>\n      <td>SEZIONE REGIONALE SICILIA</td>\n      <td>SERVIZI DI ISPEZIONE TECNICA DI EDIFICI</td>\n      <td>A.T.I. SLURP</td>\n      <td>IMPRESA SINGOLA (IMPRENDITORI INDIVIDUALI, ANC...</td>\n    </tr>\n    <tr>\n      <th>1</th>\n      <td>1</td>\n      <td>1396704</td>\n      <td>809634968D</td>\n      <td>7593971</td>\n      <td>140136.00</td>\n      <td>1.0</td>\n      <td>140136.00</td>\n      <td>SETTORI SPECIALI</td>\n      <td>2020-01-03</td>\n      <td>AFFIDAMENTO DIRETTO IN ADESIONE AD ACCORDO QUA...</td>\n      <td>CONTRATTO D'APPALTO DISCENDENTE DA ACCORDO QUA...</td>\n      <td>RETE FERROVIARIA ITALIANA - SOCIETA  PER AZIONI</td>\n      <td>SEZIONE REGIONALE CENTRALE</td>\n      <td>INSTALLAZIONE DI DISPOSITIVI DI TELECOMUNICAZIONE</td>\n      <td>GENERALE COSTRUZIONI FERROVIARIE SPA</td>\n      <td>ATI (RAGGRUPPAMENTI TEMPORANEI DI CONCORRENTI:...</td>\n    </tr>\n    <tr>\n      <th>2</th>\n      <td>2</td>\n      <td>1396705</td>\n      <td>809634968D</td>\n      <td>7593971</td>\n      <td>140136.00</td>\n      <td>1.0</td>\n      <td>140136.00</td>\n      <td>SETTORI SPECIALI</td>\n      <td>2020-01-03</td>\n      <td>AFFIDAMENTO DIRETTO IN ADESIONE AD ACCORDO QUA...</td>\n      <td>CONTRATTO D'APPALTO DISCENDENTE DA ACCORDO QUA...</td>\n      <td>RETE FERROVIARIA ITALIANA - SOCIETA  PER AZIONI</td>\n      <td>SEZIONE REGIONALE CENTRALE</td>\n      <td>INSTALLAZIONE DI DISPOSITIVI DI TELECOMUNICAZIONE</td>\n      <td>VALTELLINA SPA</td>\n      <td>ATI (RAGGRUPPAMENTI TEMPORANEI DI CONCORRENTI:...</td>\n    </tr>\n    <tr>\n      <th>3</th>\n      <td>3</td>\n      <td>1396706</td>\n      <td>81621757E2</td>\n      <td>7649364</td>\n      <td>380000.00</td>\n      <td>1.0</td>\n      <td>380000.00</td>\n      <td>SETTORI ORDINARI</td>\n      <td>2020-01-02</td>\n      <td>AFFIDAMENTO DIRETTO IN ADESIONE AD ACCORDO QUA...</td>\n      <td>CONTRATTO DAPPALTO DISCENDENTE DA ACCORDO QUAD...</td>\n      <td>AMMINISTRAZIONE PROVINCIALE DI TERNI</td>\n      <td>SEZIONE REGIONALE UMBRIA</td>\n      <td>ELETTRICITÀ</td>\n      <td>A2A ENERGIA SPA</td>\n      <td>IMPRESA SINGOLA (IMPRENDITORI INDIVIDUALI, ANC...</td>\n    </tr>\n    <tr>\n      <th>4</th>\n      <td>4</td>\n      <td>1396707</td>\n      <td>8142536944</td>\n      <td>7633063</td>\n      <td>712031.30</td>\n      <td>1.0</td>\n      <td>712031.30</td>\n      <td>SETTORI ORDINARI</td>\n      <td>2020-01-13</td>\n      <td>PROCEDURA NEGOZIATA SENZA PREVIA PUBBLICAZIONE</td>\n      <td>CONTRATTO DAPPALTO</td>\n      <td>AZIENDA ULSS N. 3 SERENISSIMA</td>\n      <td>SEZIONE REGIONALE VENETO</td>\n      <td>SERVIZI DI MANUTENZIONE DI SISTEMI E DI ASSIST...</td>\n      <td>DEDALUS</td>\n      <td>IMPRESA SINGOLA (IMPRENDITORI INDIVIDUALI, ANC...</td>\n    </tr>\n    <tr>\n      <th>...</th>\n      <td>...</td>\n      <td>...</td>\n      <td>...</td>\n      <td>...</td>\n      <td>...</td>\n      <td>...</td>\n      <td>...</td>\n      <td>...</td>\n      <td>...</td>\n      <td>...</td>\n      <td>...</td>\n      <td>...</td>\n      <td>...</td>\n      <td>...</td>\n      <td>...</td>\n      <td>...</td>\n    </tr>\n    <tr>\n      <th>110967</th>\n      <td>110967</td>\n      <td>1507670</td>\n      <td>85286619B2</td>\n      <td>7958292</td>\n      <td>60638.48</td>\n      <td>1.0</td>\n      <td>60638.48</td>\n      <td>SETTORI ORDINARI</td>\n      <td>2020-11-23</td>\n      <td>AFFIDAMENTO DIRETTO</td>\n      <td>CONTRATTO DAPPALTO</td>\n      <td>COMUNE DI MONTEROSSO AL MARE</td>\n      <td>SEZIONE REGIONALE LIGURIA</td>\n      <td>SERVIZI DI INGEGNERIA INTEGRATI</td>\n      <td>OPPO VALERIO</td>\n      <td>ATI (RAGGRUPPAMENTI TEMPORANEI DI CONCORRENTI:...</td>\n    </tr>\n    <tr>\n      <th>110968</th>\n      <td>110968</td>\n      <td>1507671</td>\n      <td>8498088C0E</td>\n      <td>7932065</td>\n      <td>44000.00</td>\n      <td>1.0</td>\n      <td>44000.00</td>\n      <td>SETTORI SPECIALI</td>\n      <td>2020-11-20</td>\n      <td>AFFIDAMENTO DIRETTO IN ADESIONE AD ACCORDO QUA...</td>\n      <td>CONTRATTO DAPPALTO DISCENDENTE DA ACCORDO QUAD...</td>\n      <td>RETE FERROVIARIA ITALIANA - SOCIETA  PER AZIONI</td>\n      <td>SEZIONE REGIONALE CENTRALE</td>\n      <td>RIPARAZIONE, MANUTENZIONE E SERVIZI AFFINI CON...</td>\n      <td>ECM SPA</td>\n      <td>IMPRESA SINGOLA (IMPRENDITORI INDIVIDUALI, ANC...</td>\n    </tr>\n    <tr>\n      <th>110969</th>\n      <td>110969</td>\n      <td>1507672</td>\n      <td>8489155053</td>\n      <td>7924202</td>\n      <td>60000.00</td>\n      <td>1.0</td>\n      <td>60000.00</td>\n      <td>SETTORI ORDINARI</td>\n      <td>2020-11-02</td>\n      <td>PROCEDURA NEGOZIATA SENZA PREVIA PUBBLICAZIONE</td>\n      <td>CONTRATTO DAPPALTO</td>\n      <td>AZIENDA UNITA  SANITARIA LOCALE N. 3 GENOVESE</td>\n      <td>SEZIONE REGIONALE LIGURIA</td>\n      <td>DISPOSITIVI E PRODOTTI MEDICI VARI</td>\n      <td>DIMAR</td>\n      <td>IMPRESA SINGOLA (IMPRENDITORI INDIVIDUALI, ANC...</td>\n    </tr>\n    <tr>\n      <th>110970</th>\n      <td>110970</td>\n      <td>1507673</td>\n      <td>8523381482</td>\n      <td>7953319</td>\n      <td>131903.00</td>\n      <td>1.0</td>\n      <td>131903.00</td>\n      <td>SETTORI ORDINARI</td>\n      <td>2020-11-30</td>\n      <td>PROCEDURA APERTA</td>\n      <td>CONTRATTO DAPPALTO</td>\n      <td>S.E.A. - SERVIZI E AMBIENTE S.P.A.</td>\n      <td>SEZIONE REGIONALE MOLISE</td>\n      <td>GESTIONE DEL PARCO MACCHINE, SERVIZI DI RIPARA...</td>\n      <td>AUTORIPARAZIONI VIMA SAS</td>\n      <td>IMPRESA SINGOLA (IMPRENDITORI INDIVIDUALI, ANC...</td>\n    </tr>\n    <tr>\n      <th>110971</th>\n      <td>110971</td>\n      <td>1507674</td>\n      <td>84565169C2</td>\n      <td>7896570</td>\n      <td>70000.00</td>\n      <td>1.0</td>\n      <td>70000.00</td>\n      <td>SETTORI ORDINARI</td>\n      <td>2020-11-17</td>\n      <td>AFFIDAMENTO DIRETTO</td>\n      <td>CONTRATTO D'APPALTO</td>\n      <td>ENERGIA TERRITORIO RISORSE AMBIENTALI ETRA SPA</td>\n      <td>SEZIONE REGIONALE VENETO</td>\n      <td>FERRO</td>\n      <td>VITI E UTENSILI SRL</td>\n      <td>IMPRESA SINGOLA (IMPRENDITORI INDIVIDUALI, ANC...</td>\n    </tr>\n  </tbody>\n</table>\n<p>110972 rows × 16 columns</p>\n</div>"
     },
     "metadata": {},
     "execution_count": 264
    }
   ],
   "source": [
    "training_df = training_df.reset_index()\n",
    "\n",
    "training_df"
   ]
  },
  {
   "cell_type": "code",
   "execution_count": 266,
   "metadata": {},
   "outputs": [
    {
     "output_type": "execute_result",
     "data": {
      "text/plain": [
       "KNeighborsClassifier(n_neighbors=100)"
      ]
     },
     "metadata": {},
     "execution_count": 266
    }
   ],
   "source": [
    "tr_input = prepareInputForKNN(df)\n",
    "\n",
    "knn_classifier = KNeighborsClassifier(100)\n",
    "knn_classifier.fit(tr_input[0], tr_input[1])"
   ]
  },
  {
   "cell_type": "code",
   "execution_count": 267,
   "metadata": {},
   "outputs": [],
   "source": [
    "ts_input = prepareInputForKNN(test_df)\n",
    "\n",
    "true_output = ts_input[1]\n",
    "pred_output = KNN_model.predict(ts_input[0])"
   ]
  },
  {
   "cell_type": "code",
   "execution_count": 268,
   "metadata": {},
   "outputs": [
    {
     "output_type": "stream",
     "name": "stdout",
     "text": [
      "Matches: 38\nTotal: 7177\n"
     ]
    }
   ],
   "source": [
    "matches = 0\n",
    "total = len(pred_output)\n",
    "for i in range(total):\n",
    "    if true_output[i] == pred_output[i]:\n",
    "        matches = matches+1\n",
    "\n",
    "print(\"Matches:\", matches)\n",
    "print(\"Total:\",total)"
   ]
  }
 ]
}