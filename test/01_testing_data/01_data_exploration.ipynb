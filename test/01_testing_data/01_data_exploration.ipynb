{
 "metadata": {
  "language_info": {
   "codemirror_mode": {
    "name": "ipython",
    "version": 3
   },
   "file_extension": ".py",
   "mimetype": "text/x-python",
   "name": "python",
   "nbconvert_exporter": "python",
   "pygments_lexer": "ipython3",
   "version": "3.9.2"
  },
  "orig_nbformat": 2,
  "kernelspec": {
   "name": "python392jvsc74a57bd09b4d0864ee092708f16b2542940b1fbc0b0becef5f5c7f918ecc5aefd1393b23",
   "display_name": "Python 3.9.2 64-bit ('BDT_2021': conda)"
  }
 },
 "nbformat": 4,
 "nbformat_minor": 2,
 "cells": [
  {
   "source": [
    "# Obtaining the data"
   ],
   "cell_type": "markdown",
   "metadata": {}
  },
  {
   "source": [
    "### Libraries"
   ],
   "cell_type": "markdown",
   "metadata": {}
  },
  {
   "cell_type": "code",
   "execution_count": 1,
   "metadata": {},
   "outputs": [
    {
     "output_type": "stream",
     "name": "stdout",
     "text": [
      "Libraries Imported\n"
     ]
    }
   ],
   "source": [
    "import pandas as pd\n",
    "from sklearn import neighbors\n",
    "import numpy as np\n",
    "\n",
    "print(\"Libraries Imported\")"
   ]
  },
  {
   "source": [
    "### Exploration of the data"
   ],
   "cell_type": "markdown",
   "metadata": {}
  },
  {
   "cell_type": "code",
   "execution_count": 3,
   "metadata": {},
   "outputs": [
    {
     "output_type": "stream",
     "name": "stdout",
     "text": [
      "Number of rows in data = 1514852\nNumber of columns in data = 14\n\nSample data:\n"
     ]
    },
    {
     "output_type": "execute_result",
     "data": {
      "text/plain": [
       "          cig  numero_gara  importo_complessivo_gara  n_lotti_componenti  \\\n",
       "0  43786532C3      4334605                  273971.0                 1.0   \n",
       "1  326325398E      3283009                 1680000.0                 8.0   \n",
       "2  32173300B5      3237166                   60000.0                 1.0   \n",
       "3  270171990A      2759518                  900000.0                 5.0   \n",
       "4  0941878E4C       979021                   56160.0                 1.0   \n",
       "\n",
       "   importo_lotto           settore data_pubblicazione  \\\n",
       "0       273971.0  SETTORI SPECIALI         2007-01-02   \n",
       "1       130000.0  SETTORI ORDINARI         2007-01-10   \n",
       "2        60000.0  SETTORI ORDINARI         2007-01-26   \n",
       "3       220000.0  SETTORI ORDINARI         2007-01-24   \n",
       "4        56160.0  SETTORI ORDINARI         2007-01-09   \n",
       "\n",
       "                           tipo_scelta_contraente    modalita_realizzazione  \\\n",
       "0                             AFFIDAMENTO DIRETTO       CONTRATTO D'APPALTO   \n",
       "1                                PROCEDURA APERTA        CONTRATTO DAPPALTO   \n",
       "2  PROCEDURA NEGOZIATA SENZA PREVIA PUBBLICAZIONE        CONTRATTO DAPPALTO   \n",
       "3                             PROCEDURA RISTRETTA       CONTRATTO D'APPALTO   \n",
       "4    AFFIDAMENTO IN ECONOMIA - COTTIMO FIDUCIARIO  ACQUISIZIONE IN ECONOMIA   \n",
       "\n",
       "            denominazione_amministrazione_appaltante  \\\n",
       "0                                  ACEA ATO 5 S.P.A.   \n",
       "1                                        ASL TARANTO   \n",
       "2                      AZIENDA ULSS N. 3 SERENISSIMA   \n",
       "3                                  CONSER V.C.O. SPA   \n",
       "4  MINISTERO DELLE INFRASTRUTTURE E DEI TRASPORTI...   \n",
       "\n",
       "            sezione_regionale  \\\n",
       "0     SEZIONE REGIONALE LAZIO   \n",
       "1    SEZIONE REGIONALE PUGLIA   \n",
       "2    SEZIONE REGIONALE VENETO   \n",
       "3  SEZIONE REGIONALE PIEMONTE   \n",
       "4  SEZIONE REGIONALE CENTRALE   \n",
       "\n",
       "                                     descrizione_cpv  \\\n",
       "0        LAVORI DI COSTRUZIONE PER OPERE IDRAULICHE.   \n",
       "1                   SISTEMA DI DIAGNOSI RADIOLOGICA.   \n",
       "2                      PRESIDI MEDICO-SANITARI VARI.   \n",
       "3  AUTOVEICOLI PER LA RACCOLTA DI RIFIUTI CON COM...   \n",
       "4            RIPARAZIONE E MANUTENZIONE DI IMPIANTI.   \n",
       "\n",
       "                            aggiudicatario  \\\n",
       "0            WALTER FREZZA COSTRUZIONI SRL   \n",
       "1                            SISMED S.R.L.   \n",
       "2   JOHNSON & JOHNSON - SOCIETA PER AZIONI   \n",
       "3                 TECNOINDUSTRIE MERLO SPA   \n",
       "4  COGEI COSTRUZIONI SRL - IN LIQUIDAZIONE   \n",
       "\n",
       "                                 tipo_aggiudicatario  \n",
       "0  IMPRESA SINGOLA (IMPRENDITORI INDIVIDUALI, ANC...  \n",
       "1  IMPRESA SINGOLA (IMPRENDITORI INDIVIDUALI, ANC...  \n",
       "2  IMPRESA SINGOLA (IMPRENDITORI INDIVIDUALI, ANC...  \n",
       "3  IMPRESA SINGOLA (IMPRENDITORI INDIVIDUALI, ANC...  \n",
       "4  IMPRESA SINGOLA (IMPRENDITORI INDIVIDUALI, ANC...  "
      ],
      "text/html": "<div>\n<style scoped>\n    .dataframe tbody tr th:only-of-type {\n        vertical-align: middle;\n    }\n\n    .dataframe tbody tr th {\n        vertical-align: top;\n    }\n\n    .dataframe thead th {\n        text-align: right;\n    }\n</style>\n<table border=\"1\" class=\"dataframe\">\n  <thead>\n    <tr style=\"text-align: right;\">\n      <th></th>\n      <th>cig</th>\n      <th>numero_gara</th>\n      <th>importo_complessivo_gara</th>\n      <th>n_lotti_componenti</th>\n      <th>importo_lotto</th>\n      <th>settore</th>\n      <th>data_pubblicazione</th>\n      <th>tipo_scelta_contraente</th>\n      <th>modalita_realizzazione</th>\n      <th>denominazione_amministrazione_appaltante</th>\n      <th>sezione_regionale</th>\n      <th>descrizione_cpv</th>\n      <th>aggiudicatario</th>\n      <th>tipo_aggiudicatario</th>\n    </tr>\n  </thead>\n  <tbody>\n    <tr>\n      <th>0</th>\n      <td>43786532C3</td>\n      <td>4334605</td>\n      <td>273971.0</td>\n      <td>1.0</td>\n      <td>273971.0</td>\n      <td>SETTORI SPECIALI</td>\n      <td>2007-01-02</td>\n      <td>AFFIDAMENTO DIRETTO</td>\n      <td>CONTRATTO D'APPALTO</td>\n      <td>ACEA ATO 5 S.P.A.</td>\n      <td>SEZIONE REGIONALE LAZIO</td>\n      <td>LAVORI DI COSTRUZIONE PER OPERE IDRAULICHE.</td>\n      <td>WALTER FREZZA COSTRUZIONI SRL</td>\n      <td>IMPRESA SINGOLA (IMPRENDITORI INDIVIDUALI, ANC...</td>\n    </tr>\n    <tr>\n      <th>1</th>\n      <td>326325398E</td>\n      <td>3283009</td>\n      <td>1680000.0</td>\n      <td>8.0</td>\n      <td>130000.0</td>\n      <td>SETTORI ORDINARI</td>\n      <td>2007-01-10</td>\n      <td>PROCEDURA APERTA</td>\n      <td>CONTRATTO DAPPALTO</td>\n      <td>ASL TARANTO</td>\n      <td>SEZIONE REGIONALE PUGLIA</td>\n      <td>SISTEMA DI DIAGNOSI RADIOLOGICA.</td>\n      <td>SISMED S.R.L.</td>\n      <td>IMPRESA SINGOLA (IMPRENDITORI INDIVIDUALI, ANC...</td>\n    </tr>\n    <tr>\n      <th>2</th>\n      <td>32173300B5</td>\n      <td>3237166</td>\n      <td>60000.0</td>\n      <td>1.0</td>\n      <td>60000.0</td>\n      <td>SETTORI ORDINARI</td>\n      <td>2007-01-26</td>\n      <td>PROCEDURA NEGOZIATA SENZA PREVIA PUBBLICAZIONE</td>\n      <td>CONTRATTO DAPPALTO</td>\n      <td>AZIENDA ULSS N. 3 SERENISSIMA</td>\n      <td>SEZIONE REGIONALE VENETO</td>\n      <td>PRESIDI MEDICO-SANITARI VARI.</td>\n      <td>JOHNSON &amp; JOHNSON - SOCIETA PER AZIONI</td>\n      <td>IMPRESA SINGOLA (IMPRENDITORI INDIVIDUALI, ANC...</td>\n    </tr>\n    <tr>\n      <th>3</th>\n      <td>270171990A</td>\n      <td>2759518</td>\n      <td>900000.0</td>\n      <td>5.0</td>\n      <td>220000.0</td>\n      <td>SETTORI ORDINARI</td>\n      <td>2007-01-24</td>\n      <td>PROCEDURA RISTRETTA</td>\n      <td>CONTRATTO D'APPALTO</td>\n      <td>CONSER V.C.O. SPA</td>\n      <td>SEZIONE REGIONALE PIEMONTE</td>\n      <td>AUTOVEICOLI PER LA RACCOLTA DI RIFIUTI CON COM...</td>\n      <td>TECNOINDUSTRIE MERLO SPA</td>\n      <td>IMPRESA SINGOLA (IMPRENDITORI INDIVIDUALI, ANC...</td>\n    </tr>\n    <tr>\n      <th>4</th>\n      <td>0941878E4C</td>\n      <td>979021</td>\n      <td>56160.0</td>\n      <td>1.0</td>\n      <td>56160.0</td>\n      <td>SETTORI ORDINARI</td>\n      <td>2007-01-09</td>\n      <td>AFFIDAMENTO IN ECONOMIA - COTTIMO FIDUCIARIO</td>\n      <td>ACQUISIZIONE IN ECONOMIA</td>\n      <td>MINISTERO DELLE INFRASTRUTTURE E DEI TRASPORTI...</td>\n      <td>SEZIONE REGIONALE CENTRALE</td>\n      <td>RIPARAZIONE E MANUTENZIONE DI IMPIANTI.</td>\n      <td>COGEI COSTRUZIONI SRL - IN LIQUIDAZIONE</td>\n      <td>IMPRESA SINGOLA (IMPRENDITORI INDIVIDUALI, ANC...</td>\n    </tr>\n  </tbody>\n</table>\n</div>"
     },
     "metadata": {},
     "execution_count": 3
    }
   ],
   "source": [
    "df = pd.read_csv(\"../../application/datasets/clean_data/appalti_aggiudicatari.csv\", sep=\";\")\n",
    "\n",
    "print(\"Number of rows in data =\", df.shape[0])\n",
    "print(\"Number of columns in data =\", df.shape[1])\n",
    "\n",
    "print(\"\\nSample data:\")\n",
    "df.head()"
   ]
  },
  {
   "source": [
    "### Obtain all possible values for the columns"
   ],
   "cell_type": "markdown",
   "metadata": {}
  },
  {
   "cell_type": "code",
   "execution_count": 11,
   "metadata": {},
   "outputs": [],
   "source": [
    "def createConfigPossibleChoices(df, cols_list):\n",
    "    sol_dict = {}\n",
    "    for c in cols_list:\n",
    "        unique_values = list(set(df[c]))\n",
    "        sol_dict[c] = unique_values\n",
    "    return sol_dict"
   ]
  },
  {
   "cell_type": "code",
   "execution_count": 12,
   "metadata": {},
   "outputs": [
    {
     "output_type": "execute_result",
     "data": {
      "text/plain": [
       "{'settore': ['SETTORI SPECIALI', 'SETTORI ORDINARI'],\n",
       " 'tipo_scelta_contraente': ['CONFRONTO COMPETITIVO IN ADESIONE AD ACCORDO QUADRO/CONVENZIONE',\n",
       "  'PROCEDURA NEGOZIATA CON PREVIA INDIZIONE DI GARA (SETTORI SPECIALI)',\n",
       "  'PROCEDURA RISTRETTA',\n",
       "  \"AFFIDAMENTO DIRETTO A SOCIETA' RAGGRUPPATE/CONSORZIATE O CONTROLLATE NELLE CONCESSIONI E NEI PARTENARIATI\",\n",
       "  'PROCEDURA RISTRETTA DERIVANTE DA AVVISI CON CUI SI INDICE UNA GARA',\n",
       "  'PROCEDURA ART.16 COMMA 2-BIS DPR 380/2001 PER OPERE URBANIZZAZIONE A SCOMPUTO PRIMARIE SOTTO SOGLIA COMUNITARIA',\n",
       "  'AFFIDAMENTO DIRETTO EX ART.5 DELLA LEGGE N.381/91',\n",
       "  'PROCEDURA SELETTIVA EX ART. 238 C.7, D.LGS. 163/2006',\n",
       "  \"AFFIDAMENTO DIRETTO A SOCIETA' IN HOUSE\",\n",
       "  'AFFIDAMENTO DIRETTO PER LAVORI, SERVIZI O FORNITURE SUPPLEMENTARI',\n",
       "  'PROCEDURA NEGOZIATA',\n",
       "  'PROCEDURA NEGOZIATA DERIVANTE DA AVVISI CON CUI SI INDICE UNA GARA',\n",
       "  'PROCEDURA RISTRETTA DERIVANTE DA AVVISI CON CUI SI INDICE LA GARA',\n",
       "  'PROCEDURA NEGOZIATA PREVIA PUBBLICAZIONE',\n",
       "  'PROCEDURA NEGOZIATA PER AFFIDAMENTI SOTTO SOGLIA',\n",
       "  'PROCEDURA APERTA',\n",
       "  \"AFFIDAMENTO DIRETTO PER VARIANTE SUPERIORE AL 20% DELL'IMPORTO CONTRATTUALE\",\n",
       "  'PROCEDURA RISTRETTA SEMPLIFICATA',\n",
       "  'AFFIDAMENTO DIRETTO IN ADESIONE AD ACCORDO QUADRO/CONVENZIONE',\n",
       "  'AFFIDAMENTO RISERVATO',\n",
       "  'ACCORDO QUADRO',\n",
       "  'SISTEMA DINAMICO DI ACQUISIZIONE',\n",
       "  'PROCEDURA NEGOZIATA SENZA PREVIA PUBBLICAZIONE',\n",
       "  'PROCEDURA AI SENSI DEI REGOLAMENTI DEGLI ORGANI COSTITUZIONALI',\n",
       "  'AFFIDAMENTO IN ECONOMIA - COTTIMO FIDUCIARIO',\n",
       "  'PROCEDURA NEGOZIATA SENZA PREVIA INDIZIONE DI GARA (SETTORI SPECIALI)',\n",
       "  'DIALOGO COMPETITIVO',\n",
       "  'PROCEDURA COMPETITIVA CON NEGOZIAZIONE',\n",
       "  'PARTERNARIATO PER L’INNOVAZIONE',\n",
       "  'AFFIDAMENTO DIRETTO']}"
      ]
     },
     "metadata": {},
     "execution_count": 12
    }
   ],
   "source": [
    "cols_list = [\"settore\", \"tipo_scelta_contraente\"]\n",
    "\n",
    "choices = createConfigPossibleChoices(df, cols_list)\n",
    "choices"
   ]
  },
  {
   "cell_type": "code",
   "execution_count": 5,
   "metadata": {},
   "outputs": [
    {
     "output_type": "execute_result",
     "data": {
      "text/plain": [
       "{'ACCORDO QUADRO',\n",
       " 'AFFIDAMENTO DIRETTO',\n",
       " \"AFFIDAMENTO DIRETTO A SOCIETA' IN HOUSE\",\n",
       " \"AFFIDAMENTO DIRETTO A SOCIETA' RAGGRUPPATE/CONSORZIATE O CONTROLLATE NELLE CONCESSIONI E NEI PARTENARIATI\",\n",
       " 'AFFIDAMENTO DIRETTO EX ART.5 DELLA LEGGE N.381/91',\n",
       " 'AFFIDAMENTO DIRETTO IN ADESIONE AD ACCORDO QUADRO/CONVENZIONE',\n",
       " 'AFFIDAMENTO DIRETTO PER LAVORI, SERVIZI O FORNITURE SUPPLEMENTARI',\n",
       " \"AFFIDAMENTO DIRETTO PER VARIANTE SUPERIORE AL 20% DELL'IMPORTO CONTRATTUALE\",\n",
       " 'AFFIDAMENTO IN ECONOMIA - COTTIMO FIDUCIARIO',\n",
       " 'AFFIDAMENTO RISERVATO',\n",
       " 'CONFRONTO COMPETITIVO IN ADESIONE AD ACCORDO QUADRO/CONVENZIONE',\n",
       " 'DIALOGO COMPETITIVO',\n",
       " 'PARTERNARIATO PER L’INNOVAZIONE',\n",
       " 'PROCEDURA AI SENSI DEI REGOLAMENTI DEGLI ORGANI COSTITUZIONALI',\n",
       " 'PROCEDURA APERTA',\n",
       " 'PROCEDURA ART.16 COMMA 2-BIS DPR 380/2001 PER OPERE URBANIZZAZIONE A SCOMPUTO PRIMARIE SOTTO SOGLIA COMUNITARIA',\n",
       " 'PROCEDURA COMPETITIVA CON NEGOZIAZIONE',\n",
       " 'PROCEDURA NEGOZIATA',\n",
       " 'PROCEDURA NEGOZIATA CON PREVIA INDIZIONE DI GARA (SETTORI SPECIALI)',\n",
       " 'PROCEDURA NEGOZIATA DERIVANTE DA AVVISI CON CUI SI INDICE UNA GARA',\n",
       " 'PROCEDURA NEGOZIATA PER AFFIDAMENTI SOTTO SOGLIA',\n",
       " 'PROCEDURA NEGOZIATA PREVIA PUBBLICAZIONE',\n",
       " 'PROCEDURA NEGOZIATA SENZA PREVIA INDIZIONE DI GARA (SETTORI SPECIALI)',\n",
       " 'PROCEDURA NEGOZIATA SENZA PREVIA PUBBLICAZIONE',\n",
       " 'PROCEDURA RISTRETTA',\n",
       " 'PROCEDURA RISTRETTA DERIVANTE DA AVVISI CON CUI SI INDICE LA GARA',\n",
       " 'PROCEDURA RISTRETTA DERIVANTE DA AVVISI CON CUI SI INDICE UNA GARA',\n",
       " 'PROCEDURA RISTRETTA SEMPLIFICATA',\n",
       " 'PROCEDURA SELETTIVA EX ART. 238 C.7, D.LGS. 163/2006',\n",
       " 'SISTEMA DINAMICO DI ACQUISIZIONE'}"
      ]
     },
     "metadata": {},
     "execution_count": 5
    }
   ],
   "source": [
    "tipo_scelta_contraente_choices = set(df[\"tipo_scelta_contraente\"])\n",
    "tipo_scelta_contraente_choices"
   ]
  },
  {
   "cell_type": "code",
   "execution_count": null,
   "metadata": {},
   "outputs": [],
   "source": []
  }
 ]
}